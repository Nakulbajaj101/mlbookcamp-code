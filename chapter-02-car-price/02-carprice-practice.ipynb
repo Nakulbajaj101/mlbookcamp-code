{
 "cells": [
  {
   "cell_type": "code",
   "execution_count": 1,
   "id": "cf678598",
   "metadata": {},
   "outputs": [],
   "source": [
    "import pandas as pd\n",
    "import numpy as np\n",
    "\n",
    "import seaborn as sns\n",
    "from matplotlib import pyplot as plt\n",
    "from sklearn.metrics import r2_score\n",
    "%matplotlib inline"
   ]
  },
  {
   "cell_type": "code",
   "execution_count": 2,
   "id": "6ddfc233",
   "metadata": {},
   "outputs": [
    {
     "data": {
      "text/plain": [
       "11914"
      ]
     },
     "execution_count": 2,
     "metadata": {},
     "output_type": "execute_result"
    }
   ],
   "source": [
    "df = pd.read_csv('data.csv')\n",
    "len(df)"
   ]
  },
  {
   "cell_type": "code",
   "execution_count": 3,
   "id": "45e9c00f",
   "metadata": {},
   "outputs": [
    {
     "data": {
      "text/html": [
       "<div>\n",
       "<style scoped>\n",
       "    .dataframe tbody tr th:only-of-type {\n",
       "        vertical-align: middle;\n",
       "    }\n",
       "\n",
       "    .dataframe tbody tr th {\n",
       "        vertical-align: top;\n",
       "    }\n",
       "\n",
       "    .dataframe thead th {\n",
       "        text-align: right;\n",
       "    }\n",
       "</style>\n",
       "<table border=\"1\" class=\"dataframe\">\n",
       "  <thead>\n",
       "    <tr style=\"text-align: right;\">\n",
       "      <th></th>\n",
       "      <th>Make</th>\n",
       "      <th>Model</th>\n",
       "      <th>Year</th>\n",
       "      <th>Engine Fuel Type</th>\n",
       "      <th>Engine HP</th>\n",
       "      <th>Engine Cylinders</th>\n",
       "      <th>Transmission Type</th>\n",
       "      <th>Driven_Wheels</th>\n",
       "      <th>Number of Doors</th>\n",
       "      <th>Market Category</th>\n",
       "      <th>Vehicle Size</th>\n",
       "      <th>Vehicle Style</th>\n",
       "      <th>highway MPG</th>\n",
       "      <th>city mpg</th>\n",
       "      <th>Popularity</th>\n",
       "      <th>MSRP</th>\n",
       "    </tr>\n",
       "  </thead>\n",
       "  <tbody>\n",
       "    <tr>\n",
       "      <th>0</th>\n",
       "      <td>BMW</td>\n",
       "      <td>1 Series M</td>\n",
       "      <td>2011</td>\n",
       "      <td>premium unleaded (required)</td>\n",
       "      <td>335.0</td>\n",
       "      <td>6.0</td>\n",
       "      <td>MANUAL</td>\n",
       "      <td>rear wheel drive</td>\n",
       "      <td>2.0</td>\n",
       "      <td>Factory Tuner,Luxury,High-Performance</td>\n",
       "      <td>Compact</td>\n",
       "      <td>Coupe</td>\n",
       "      <td>26</td>\n",
       "      <td>19</td>\n",
       "      <td>3916</td>\n",
       "      <td>46135</td>\n",
       "    </tr>\n",
       "    <tr>\n",
       "      <th>1</th>\n",
       "      <td>BMW</td>\n",
       "      <td>1 Series</td>\n",
       "      <td>2011</td>\n",
       "      <td>premium unleaded (required)</td>\n",
       "      <td>300.0</td>\n",
       "      <td>6.0</td>\n",
       "      <td>MANUAL</td>\n",
       "      <td>rear wheel drive</td>\n",
       "      <td>2.0</td>\n",
       "      <td>Luxury,Performance</td>\n",
       "      <td>Compact</td>\n",
       "      <td>Convertible</td>\n",
       "      <td>28</td>\n",
       "      <td>19</td>\n",
       "      <td>3916</td>\n",
       "      <td>40650</td>\n",
       "    </tr>\n",
       "    <tr>\n",
       "      <th>2</th>\n",
       "      <td>BMW</td>\n",
       "      <td>1 Series</td>\n",
       "      <td>2011</td>\n",
       "      <td>premium unleaded (required)</td>\n",
       "      <td>300.0</td>\n",
       "      <td>6.0</td>\n",
       "      <td>MANUAL</td>\n",
       "      <td>rear wheel drive</td>\n",
       "      <td>2.0</td>\n",
       "      <td>Luxury,High-Performance</td>\n",
       "      <td>Compact</td>\n",
       "      <td>Coupe</td>\n",
       "      <td>28</td>\n",
       "      <td>20</td>\n",
       "      <td>3916</td>\n",
       "      <td>36350</td>\n",
       "    </tr>\n",
       "    <tr>\n",
       "      <th>3</th>\n",
       "      <td>BMW</td>\n",
       "      <td>1 Series</td>\n",
       "      <td>2011</td>\n",
       "      <td>premium unleaded (required)</td>\n",
       "      <td>230.0</td>\n",
       "      <td>6.0</td>\n",
       "      <td>MANUAL</td>\n",
       "      <td>rear wheel drive</td>\n",
       "      <td>2.0</td>\n",
       "      <td>Luxury,Performance</td>\n",
       "      <td>Compact</td>\n",
       "      <td>Coupe</td>\n",
       "      <td>28</td>\n",
       "      <td>18</td>\n",
       "      <td>3916</td>\n",
       "      <td>29450</td>\n",
       "    </tr>\n",
       "    <tr>\n",
       "      <th>4</th>\n",
       "      <td>BMW</td>\n",
       "      <td>1 Series</td>\n",
       "      <td>2011</td>\n",
       "      <td>premium unleaded (required)</td>\n",
       "      <td>230.0</td>\n",
       "      <td>6.0</td>\n",
       "      <td>MANUAL</td>\n",
       "      <td>rear wheel drive</td>\n",
       "      <td>2.0</td>\n",
       "      <td>Luxury</td>\n",
       "      <td>Compact</td>\n",
       "      <td>Convertible</td>\n",
       "      <td>28</td>\n",
       "      <td>18</td>\n",
       "      <td>3916</td>\n",
       "      <td>34500</td>\n",
       "    </tr>\n",
       "  </tbody>\n",
       "</table>\n",
       "</div>"
      ],
      "text/plain": [
       "  Make       Model  Year             Engine Fuel Type  Engine HP  \\\n",
       "0  BMW  1 Series M  2011  premium unleaded (required)      335.0   \n",
       "1  BMW    1 Series  2011  premium unleaded (required)      300.0   \n",
       "2  BMW    1 Series  2011  premium unleaded (required)      300.0   \n",
       "3  BMW    1 Series  2011  premium unleaded (required)      230.0   \n",
       "4  BMW    1 Series  2011  premium unleaded (required)      230.0   \n",
       "\n",
       "   Engine Cylinders Transmission Type     Driven_Wheels  Number of Doors  \\\n",
       "0               6.0            MANUAL  rear wheel drive              2.0   \n",
       "1               6.0            MANUAL  rear wheel drive              2.0   \n",
       "2               6.0            MANUAL  rear wheel drive              2.0   \n",
       "3               6.0            MANUAL  rear wheel drive              2.0   \n",
       "4               6.0            MANUAL  rear wheel drive              2.0   \n",
       "\n",
       "                         Market Category Vehicle Size Vehicle Style  \\\n",
       "0  Factory Tuner,Luxury,High-Performance      Compact         Coupe   \n",
       "1                     Luxury,Performance      Compact   Convertible   \n",
       "2                Luxury,High-Performance      Compact         Coupe   \n",
       "3                     Luxury,Performance      Compact         Coupe   \n",
       "4                                 Luxury      Compact   Convertible   \n",
       "\n",
       "   highway MPG  city mpg  Popularity   MSRP  \n",
       "0           26        19        3916  46135  \n",
       "1           28        19        3916  40650  \n",
       "2           28        20        3916  36350  \n",
       "3           28        18        3916  29450  \n",
       "4           28        18        3916  34500  "
      ]
     },
     "execution_count": 3,
     "metadata": {},
     "output_type": "execute_result"
    }
   ],
   "source": [
    "df.head()"
   ]
  },
  {
   "cell_type": "code",
   "execution_count": 4,
   "id": "f0cda38b",
   "metadata": {},
   "outputs": [
    {
     "data": {
      "text/plain": [
       "Index(['Make', 'Model', 'Year', 'Engine Fuel Type', 'Engine HP',\n",
       "       'Engine Cylinders', 'Transmission Type', 'Driven_Wheels',\n",
       "       'Number of Doors', 'Market Category', 'Vehicle Size', 'Vehicle Style',\n",
       "       'highway MPG', 'city mpg', 'Popularity', 'MSRP'],\n",
       "      dtype='object')"
      ]
     },
     "execution_count": 4,
     "metadata": {},
     "output_type": "execute_result"
    }
   ],
   "source": [
    "df.columns"
   ]
  },
  {
   "cell_type": "code",
   "execution_count": 5,
   "id": "e72d90d7",
   "metadata": {},
   "outputs": [],
   "source": [
    "df.columns = df.columns.str.lower().str.replace(\" \",\"_\")"
   ]
  },
  {
   "cell_type": "code",
   "execution_count": 6,
   "id": "a292d199",
   "metadata": {},
   "outputs": [
    {
     "data": {
      "text/plain": [
       "make                  object\n",
       "model                 object\n",
       "year                   int64\n",
       "engine_fuel_type      object\n",
       "engine_hp            float64\n",
       "engine_cylinders     float64\n",
       "transmission_type     object\n",
       "driven_wheels         object\n",
       "number_of_doors      float64\n",
       "market_category       object\n",
       "vehicle_size          object\n",
       "vehicle_style         object\n",
       "highway_mpg            int64\n",
       "city_mpg               int64\n",
       "popularity             int64\n",
       "msrp                   int64\n",
       "dtype: object"
      ]
     },
     "execution_count": 6,
     "metadata": {},
     "output_type": "execute_result"
    }
   ],
   "source": [
    "df.dtypes"
   ]
  },
  {
   "cell_type": "code",
   "execution_count": 7,
   "id": "32bc895e",
   "metadata": {},
   "outputs": [],
   "source": [
    "cat_cols = list(df.dtypes[df.dtypes == 'object'].index)"
   ]
  },
  {
   "cell_type": "code",
   "execution_count": 8,
   "id": "0487a17c",
   "metadata": {},
   "outputs": [],
   "source": [
    "for _ in cat_cols:\n",
    "    df[_] = df[_].str.lower().str.replace(\" \",\"_\")"
   ]
  },
  {
   "cell_type": "code",
   "execution_count": 9,
   "id": "22a849c3",
   "metadata": {},
   "outputs": [
    {
     "data": {
      "text/html": [
       "<div>\n",
       "<style scoped>\n",
       "    .dataframe tbody tr th:only-of-type {\n",
       "        vertical-align: middle;\n",
       "    }\n",
       "\n",
       "    .dataframe tbody tr th {\n",
       "        vertical-align: top;\n",
       "    }\n",
       "\n",
       "    .dataframe thead th {\n",
       "        text-align: right;\n",
       "    }\n",
       "</style>\n",
       "<table border=\"1\" class=\"dataframe\">\n",
       "  <thead>\n",
       "    <tr style=\"text-align: right;\">\n",
       "      <th></th>\n",
       "      <th>make</th>\n",
       "      <th>model</th>\n",
       "      <th>year</th>\n",
       "      <th>engine_fuel_type</th>\n",
       "      <th>engine_hp</th>\n",
       "      <th>engine_cylinders</th>\n",
       "      <th>transmission_type</th>\n",
       "      <th>driven_wheels</th>\n",
       "      <th>number_of_doors</th>\n",
       "      <th>market_category</th>\n",
       "      <th>vehicle_size</th>\n",
       "      <th>vehicle_style</th>\n",
       "      <th>highway_mpg</th>\n",
       "      <th>city_mpg</th>\n",
       "      <th>popularity</th>\n",
       "      <th>msrp</th>\n",
       "    </tr>\n",
       "  </thead>\n",
       "  <tbody>\n",
       "    <tr>\n",
       "      <th>0</th>\n",
       "      <td>bmw</td>\n",
       "      <td>1_series_m</td>\n",
       "      <td>2011</td>\n",
       "      <td>premium_unleaded_(required)</td>\n",
       "      <td>335.0</td>\n",
       "      <td>6.0</td>\n",
       "      <td>manual</td>\n",
       "      <td>rear_wheel_drive</td>\n",
       "      <td>2.0</td>\n",
       "      <td>factory_tuner,luxury,high-performance</td>\n",
       "      <td>compact</td>\n",
       "      <td>coupe</td>\n",
       "      <td>26</td>\n",
       "      <td>19</td>\n",
       "      <td>3916</td>\n",
       "      <td>46135</td>\n",
       "    </tr>\n",
       "    <tr>\n",
       "      <th>1</th>\n",
       "      <td>bmw</td>\n",
       "      <td>1_series</td>\n",
       "      <td>2011</td>\n",
       "      <td>premium_unleaded_(required)</td>\n",
       "      <td>300.0</td>\n",
       "      <td>6.0</td>\n",
       "      <td>manual</td>\n",
       "      <td>rear_wheel_drive</td>\n",
       "      <td>2.0</td>\n",
       "      <td>luxury,performance</td>\n",
       "      <td>compact</td>\n",
       "      <td>convertible</td>\n",
       "      <td>28</td>\n",
       "      <td>19</td>\n",
       "      <td>3916</td>\n",
       "      <td>40650</td>\n",
       "    </tr>\n",
       "    <tr>\n",
       "      <th>2</th>\n",
       "      <td>bmw</td>\n",
       "      <td>1_series</td>\n",
       "      <td>2011</td>\n",
       "      <td>premium_unleaded_(required)</td>\n",
       "      <td>300.0</td>\n",
       "      <td>6.0</td>\n",
       "      <td>manual</td>\n",
       "      <td>rear_wheel_drive</td>\n",
       "      <td>2.0</td>\n",
       "      <td>luxury,high-performance</td>\n",
       "      <td>compact</td>\n",
       "      <td>coupe</td>\n",
       "      <td>28</td>\n",
       "      <td>20</td>\n",
       "      <td>3916</td>\n",
       "      <td>36350</td>\n",
       "    </tr>\n",
       "    <tr>\n",
       "      <th>3</th>\n",
       "      <td>bmw</td>\n",
       "      <td>1_series</td>\n",
       "      <td>2011</td>\n",
       "      <td>premium_unleaded_(required)</td>\n",
       "      <td>230.0</td>\n",
       "      <td>6.0</td>\n",
       "      <td>manual</td>\n",
       "      <td>rear_wheel_drive</td>\n",
       "      <td>2.0</td>\n",
       "      <td>luxury,performance</td>\n",
       "      <td>compact</td>\n",
       "      <td>coupe</td>\n",
       "      <td>28</td>\n",
       "      <td>18</td>\n",
       "      <td>3916</td>\n",
       "      <td>29450</td>\n",
       "    </tr>\n",
       "    <tr>\n",
       "      <th>4</th>\n",
       "      <td>bmw</td>\n",
       "      <td>1_series</td>\n",
       "      <td>2011</td>\n",
       "      <td>premium_unleaded_(required)</td>\n",
       "      <td>230.0</td>\n",
       "      <td>6.0</td>\n",
       "      <td>manual</td>\n",
       "      <td>rear_wheel_drive</td>\n",
       "      <td>2.0</td>\n",
       "      <td>luxury</td>\n",
       "      <td>compact</td>\n",
       "      <td>convertible</td>\n",
       "      <td>28</td>\n",
       "      <td>18</td>\n",
       "      <td>3916</td>\n",
       "      <td>34500</td>\n",
       "    </tr>\n",
       "  </tbody>\n",
       "</table>\n",
       "</div>"
      ],
      "text/plain": [
       "  make       model  year             engine_fuel_type  engine_hp  \\\n",
       "0  bmw  1_series_m  2011  premium_unleaded_(required)      335.0   \n",
       "1  bmw    1_series  2011  premium_unleaded_(required)      300.0   \n",
       "2  bmw    1_series  2011  premium_unleaded_(required)      300.0   \n",
       "3  bmw    1_series  2011  premium_unleaded_(required)      230.0   \n",
       "4  bmw    1_series  2011  premium_unleaded_(required)      230.0   \n",
       "\n",
       "   engine_cylinders transmission_type     driven_wheels  number_of_doors  \\\n",
       "0               6.0            manual  rear_wheel_drive              2.0   \n",
       "1               6.0            manual  rear_wheel_drive              2.0   \n",
       "2               6.0            manual  rear_wheel_drive              2.0   \n",
       "3               6.0            manual  rear_wheel_drive              2.0   \n",
       "4               6.0            manual  rear_wheel_drive              2.0   \n",
       "\n",
       "                         market_category vehicle_size vehicle_style  \\\n",
       "0  factory_tuner,luxury,high-performance      compact         coupe   \n",
       "1                     luxury,performance      compact   convertible   \n",
       "2                luxury,high-performance      compact         coupe   \n",
       "3                     luxury,performance      compact         coupe   \n",
       "4                                 luxury      compact   convertible   \n",
       "\n",
       "   highway_mpg  city_mpg  popularity   msrp  \n",
       "0           26        19        3916  46135  \n",
       "1           28        19        3916  40650  \n",
       "2           28        20        3916  36350  \n",
       "3           28        18        3916  29450  \n",
       "4           28        18        3916  34500  "
      ]
     },
     "execution_count": 9,
     "metadata": {},
     "output_type": "execute_result"
    }
   ],
   "source": [
    "df.head()"
   ]
  },
  {
   "cell_type": "code",
   "execution_count": 10,
   "id": "f65776e0",
   "metadata": {},
   "outputs": [],
   "source": [
    "target_col = 'msrp'"
   ]
  },
  {
   "cell_type": "code",
   "execution_count": 11,
   "id": "8f3d09ca",
   "metadata": {},
   "outputs": [
    {
     "data": {
      "text/plain": [
       "<AxesSubplot:xlabel='msrp', ylabel='Count'>"
      ]
     },
     "execution_count": 11,
     "metadata": {},
     "output_type": "execute_result"
    },
    {
     "data": {
      "image/png": "[encoded data removed]",
      "text/plain": [
       "<Figure size 432x288 with 1 Axes>"
      ]
     },
     "metadata": {
      "needs_background": "light"
     },
     "output_type": "display_data"
    }
   ],
   "source": [
    "sns.histplot(df[target_col], bins = 50)"
   ]
  },
  {
   "cell_type": "code",
   "execution_count": 12,
   "id": "53c65b76",
   "metadata": {},
   "outputs": [
    {
     "data": {
      "text/plain": [
       "<AxesSubplot:xlabel='msrp', ylabel='Count'>"
      ]
     },
     "execution_count": 12,
     "metadata": {},
     "output_type": "execute_result"
    },
    {
     "data": {
      "image/png": "[encoded data removed]",
      "text/plain": [
       "<Figure size 432x288 with 1 Axes>"
      ]
     },
     "metadata": {
      "needs_background": "light"
     },
     "output_type": "display_data"
    }
   ],
   "source": [
    "sns.histplot(df[target_col][df[target_col] < 100000], bins=50)"
   ]
  },
  {
   "cell_type": "code",
   "execution_count": 13,
   "id": "1eb68482",
   "metadata": {},
   "outputs": [],
   "source": [
    "log_target = np.log1p(df[target_col])"
   ]
  },
  {
   "cell_type": "code",
   "execution_count": 14,
   "id": "29f0ec80",
   "metadata": {},
   "outputs": [
    {
     "data": {
      "text/plain": [
       "<AxesSubplot:xlabel='msrp', ylabel='Count'>"
      ]
     },
     "execution_count": 14,
     "metadata": {},
     "output_type": "execute_result"
    },
    {
     "data": {
      "image/png": "[encoded data removed]",
      "text/plain": [
       "<Figure size 432x288 with 1 Axes>"
      ]
     },
     "metadata": {
      "needs_background": "light"
     },
     "output_type": "display_data"
    }
   ],
   "source": [
    "sns.histplot(log_target, bins=50)"
   ]
  },
  {
   "cell_type": "code",
   "execution_count": 15,
   "id": "09daf21a",
   "metadata": {},
   "outputs": [
    {
     "data": {
      "text/plain": [
       "make                  0.000000\n",
       "model                 0.000000\n",
       "year                  0.000000\n",
       "engine_fuel_type      0.025180\n",
       "engine_hp             0.579151\n",
       "engine_cylinders      0.251805\n",
       "transmission_type     0.000000\n",
       "driven_wheels         0.000000\n",
       "number_of_doors       0.050361\n",
       "market_category      31.408427\n",
       "vehicle_size          0.000000\n",
       "vehicle_style         0.000000\n",
       "highway_mpg           0.000000\n",
       "city_mpg              0.000000\n",
       "popularity            0.000000\n",
       "msrp                  0.000000\n",
       "dtype: float64"
      ]
     },
     "execution_count": 15,
     "metadata": {},
     "output_type": "execute_result"
    }
   ],
   "source": [
    "(df.isnull().sum()/df.shape[0])*100"
   ]
  },
  {
   "cell_type": "markdown",
   "id": "c6b19bde",
   "metadata": {},
   "source": [
    "## Splitting the data"
   ]
  },
  {
   "cell_type": "code",
   "execution_count": 16,
   "id": "b371e487",
   "metadata": {},
   "outputs": [],
   "source": [
    "n_rows = df.shape[0]\n",
    "training = int(n_rows*0.6)\n",
    "validation = int(n_rows*0.2)\n",
    "testing = n_rows - training - validation\n",
    "df_train = df.iloc[:training]\n",
    "df_val = df.iloc[training:training+validation]\n",
    "df_test = df.iloc[training+validation:]"
   ]
  },
  {
   "cell_type": "code",
   "execution_count": 17,
   "id": "8950e823",
   "metadata": {},
   "outputs": [
    {
     "data": {
      "text/plain": [
       "(7148, 2382, 2384)"
      ]
     },
     "execution_count": 17,
     "metadata": {},
     "output_type": "execute_result"
    }
   ],
   "source": [
    "df_train.shape[0], df_val.shape[0], df_test.shape[0]"
   ]
  },
  {
   "cell_type": "code",
   "execution_count": 18,
   "id": "7761867d",
   "metadata": {},
   "outputs": [],
   "source": [
    "idx = np.arange(n_rows)\n",
    "np.random.seed(42)\n",
    "np.random.shuffle(idx)"
   ]
  },
  {
   "cell_type": "code",
   "execution_count": 19,
   "id": "088d7c1e",
   "metadata": {},
   "outputs": [],
   "source": [
    "df_train = df.iloc[idx[:training]]\n",
    "df_val = df.iloc[idx[training:training+validation]]\n",
    "df_test = df.iloc[idx[training+validation:]]"
   ]
  },
  {
   "cell_type": "code",
   "execution_count": 20,
   "id": "87282a67",
   "metadata": {},
   "outputs": [
    {
     "data": {
      "text/plain": [
       "(11914, 11914)"
      ]
     },
     "execution_count": 20,
     "metadata": {},
     "output_type": "execute_result"
    }
   ],
   "source": [
    "df.shape[0], df_train.shape[0] + df_val.shape[0] + df_test.shape[0]"
   ]
  },
  {
   "cell_type": "code",
   "execution_count": 21,
   "id": "d83be9c9",
   "metadata": {},
   "outputs": [],
   "source": [
    "df_train = df_train.reset_index(drop=True)\n",
    "df_val = df_val.reset_index(drop=True)\n",
    "df_test = df_test.reset_index(drop=True)"
   ]
  },
  {
   "cell_type": "code",
   "execution_count": 22,
   "id": "143ccbce",
   "metadata": {},
   "outputs": [],
   "source": [
    "y_train = np.log1p(df_train[target_col])\n",
    "y_val = np.log1p(df_val[target_col])\n",
    "y_test = np.log1p(df_test[target_col])"
   ]
  },
  {
   "cell_type": "code",
   "execution_count": 23,
   "id": "1052d688",
   "metadata": {},
   "outputs": [
    {
     "data": {
      "text/plain": [
       "<AxesSubplot:xlabel='msrp', ylabel='Count'>"
      ]
     },
     "execution_count": 23,
     "metadata": {},
     "output_type": "execute_result"
    },
    {
     "data": {
      "image/png": "[encoded data removed]",
      "text/plain": [
       "<Figure size 432x288 with 1 Axes>"
      ]
     },
     "metadata": {
      "needs_background": "light"
     },
     "output_type": "display_data"
    }
   ],
   "source": [
    "sns.histplot(y_train, bins=50)"
   ]
  },
  {
   "cell_type": "code",
   "execution_count": 24,
   "id": "ed428f62",
   "metadata": {},
   "outputs": [
    {
     "data": {
      "text/plain": [
       "<AxesSubplot:xlabel='msrp', ylabel='Count'>"
      ]
     },
     "execution_count": 24,
     "metadata": {},
     "output_type": "execute_result"
    },
    {
     "data": {
      "image/png": "[encoded data removed]",
      "text/plain": [
       "<Figure size 432x288 with 1 Axes>"
      ]
     },
     "metadata": {
      "needs_background": "light"
     },
     "output_type": "display_data"
    }
   ],
   "source": [
    "sns.histplot(y_val, bins=50)"
   ]
  },
  {
   "cell_type": "code",
   "execution_count": 25,
   "id": "5cd400a3",
   "metadata": {},
   "outputs": [
    {
     "data": {
      "text/plain": [
       "<AxesSubplot:xlabel='msrp', ylabel='Count'>"
      ]
     },
     "execution_count": 25,
     "metadata": {},
     "output_type": "execute_result"
    },
    {
     "data": {
      "image/png": "[encoded data removed]",
      "text/plain": [
       "<Figure size 432x288 with 1 Axes>"
      ]
     },
     "metadata": {
      "needs_background": "light"
     },
     "output_type": "display_data"
    }
   ],
   "source": [
    "sns.histplot(y_test, bins=50)"
   ]
  },
  {
   "cell_type": "code",
   "execution_count": 26,
   "id": "ac0a2bbb",
   "metadata": {},
   "outputs": [],
   "source": [
    "df_train.drop([target_col], axis=1, inplace=True)\n",
    "df_val.drop([target_col], axis=1, inplace=True)\n",
    "df_test.drop([target_col], axis=1, inplace=True)"
   ]
  },
  {
   "cell_type": "markdown",
   "id": "3353ce17",
   "metadata": {},
   "source": [
    "## Linear Regression"
   ]
  },
  {
   "cell_type": "code",
   "execution_count": 27,
   "id": "bfb50019",
   "metadata": {},
   "outputs": [],
   "source": [
    "w0 = 1000\n",
    "Xi = [200, 500, 5, 20]\n",
    "\n",
    "def linear_reg(features: list=[], y: list=None):\n",
    "    \n",
    "    features = np.matrix(features)\n",
    "    \n",
    "    shape = features.shape\n",
    "    rows, cols = shape[0], shape[1]\n",
    "    preds = np.zeros((rows, cols))\n",
    "    weights = np.matrix([500, 20, 10, 0.05])\n",
    "    \n",
    "    if y is None:\n",
    "        y = preds\n",
    "    else:\n",
    "        y = np.matrix(y)\n",
    "    \n",
    "    assert y.shape == preds.shape\n",
    "    assert weights.shape[1] == cols\n",
    "        \n",
    "    for i in range(rows):\n",
    "        for j in range(cols):\n",
    "            y[i,j] = weights[i,j]*features[i,j]\n",
    "        \n",
    "    return np.sum(y) + w0"
   ]
  },
  {
   "cell_type": "code",
   "execution_count": 28,
   "id": "ab134a77",
   "metadata": {},
   "outputs": [
    {
     "data": {
      "text/plain": [
       "111051.0"
      ]
     },
     "execution_count": 28,
     "metadata": {},
     "output_type": "execute_result"
    }
   ],
   "source": [
    "linear_reg(features=Xi)"
   ]
  },
  {
   "cell_type": "code",
   "execution_count": 29,
   "id": "6e1f1161",
   "metadata": {},
   "outputs": [],
   "source": [
    "w0 = 100\n",
    "W = [20, 30, 40]\n",
    "weights = np.matrix([w0] + W)\n",
    "X = np.array([[100, 80, 60],[80,60, 40], [23,50,70]])\n",
    "x0 = np.ones((X.shape[0],1))\n",
    "x = np.hstack((x0, X))"
   ]
  },
  {
   "cell_type": "code",
   "execution_count": 30,
   "id": "43a61a63",
   "metadata": {},
   "outputs": [],
   "source": [
    "def linear_regression(x, w):\n",
    "    y = w*x.T\n",
    "    return y\n",
    "\n",
    "def linear_model(x, y):\n",
    "    \n",
    "    x0 = np.ones((x.shape[0],1))\n",
    "    x = np.hstack((x0, x))\n",
    "    \n",
    "    features_transpose = x.T\n",
    "    features_transpose_inv = np.linalg.inv(features_transpose.dot(x))\n",
    "    weights = features_transpose_inv.dot(features_transpose).dot(y)\n",
    "    \n",
    "    return [weights[0], weights[1:]]"
   ]
  },
  {
   "cell_type": "code",
   "execution_count": 31,
   "id": "9162a709",
   "metadata": {},
   "outputs": [
    {
     "data": {
      "text/plain": [
       "matrix([[6900., 5100., 4860.]])"
      ]
     },
     "execution_count": 31,
     "metadata": {},
     "output_type": "execute_result"
    }
   ],
   "source": [
    "linear_regression(x, weights)"
   ]
  },
  {
   "cell_type": "code",
   "execution_count": 32,
   "id": "ec36373b",
   "metadata": {},
   "outputs": [
    {
     "data": {
      "text/plain": [
       "(541.69921875, array([20.12695312, 19.16015625, 58.45458984]))"
      ]
     },
     "execution_count": 32,
     "metadata": {},
     "output_type": "execute_result"
    }
   ],
   "source": [
    "slope, coefficient = linear_model(X,np.array([6900, 5100, 4860]))\n",
    "slope, coefficient"
   ]
  },
  {
   "cell_type": "markdown",
   "id": "5dafc4be",
   "metadata": {},
   "source": [
    "## Baseline Solution"
   ]
  },
  {
   "cell_type": "code",
   "execution_count": 33,
   "id": "fab73dbb",
   "metadata": {},
   "outputs": [],
   "source": [
    "base = ['engine_hp', 'engine_cylinders', 'highway_mpg', 'city_mpg', 'popularity']\n",
    "X_train = df_train[base]"
   ]
  },
  {
   "cell_type": "code",
   "execution_count": 34,
   "id": "9823d169",
   "metadata": {},
   "outputs": [
    {
     "data": {
      "text/plain": [
       "engine_hp           52\n",
       "engine_cylinders    16\n",
       "highway_mpg          0\n",
       "city_mpg             0\n",
       "popularity           0\n",
       "dtype: int64"
      ]
     },
     "execution_count": 34,
     "metadata": {},
     "output_type": "execute_result"
    }
   ],
   "source": [
    "X_train.isnull().sum()"
   ]
  },
  {
   "cell_type": "code",
   "execution_count": 35,
   "id": "18c0b38b",
   "metadata": {},
   "outputs": [
    {
     "name": "stderr",
     "output_type": "stream",
     "text": [
      "/Users/bajajn/anaconda3/lib/python3.8/site-packages/pandas/core/series.py:4460: SettingWithCopyWarning: \n",
      "A value is trying to be set on a copy of a slice from a DataFrame\n",
      "\n",
      "See the caveats in the documentation: https://pandas.pydata.org/pandas-docs/stable/user_guide/indexing.html#returning-a-view-versus-a-copy\n",
      "  return super().fillna(\n"
     ]
    }
   ],
   "source": [
    "X_train.fillna(value=X_train.mean(), inplace=True)"
   ]
  },
  {
   "cell_type": "code",
   "execution_count": 36,
   "id": "d003840b",
   "metadata": {},
   "outputs": [],
   "source": [
    "X = X_train.values\n",
    "y = y_train.values\n",
    "\n",
    "slope, coefficient = linear_model(X,y)"
   ]
  },
  {
   "cell_type": "code",
   "execution_count": 37,
   "id": "2cc33e16",
   "metadata": {},
   "outputs": [],
   "source": [
    "preds = slope + X.dot(coefficient)"
   ]
  },
  {
   "cell_type": "code",
   "execution_count": 38,
   "id": "e3b84ca6",
   "metadata": {},
   "outputs": [
    {
     "data": {
      "text/plain": [
       "<AxesSubplot:ylabel='Count'>"
      ]
     },
     "execution_count": 38,
     "metadata": {},
     "output_type": "execute_result"
    },
    {
     "data": {
      "image/png": "[encoded data removed]",
      "text/plain": [
       "<Figure size 432x288 with 1 Axes>"
      ]
     },
     "metadata": {
      "needs_background": "light"
     },
     "output_type": "display_data"
    }
   ],
   "source": [
    "sns.histplot(preds, alpha=0.5, color='red')\n",
    "sns.histplot(y, alpha=0.5, color='blue')"
   ]
  },
  {
   "cell_type": "markdown",
   "id": "6cbbee9f",
   "metadata": {},
   "source": [
    "# RMSE"
   ]
  },
  {
   "cell_type": "code",
   "execution_count": 39,
   "id": "8df752f6",
   "metadata": {},
   "outputs": [],
   "source": [
    "def rmse(y, preds):\n",
    "    se = (y - preds)**2\n",
    "    mse = se.mean()\n",
    "    rmse = np.sqrt(mse)\n",
    "    return mse"
   ]
  },
  {
   "cell_type": "code",
   "execution_count": 40,
   "id": "0d049a40",
   "metadata": {},
   "outputs": [
    {
     "data": {
      "text/plain": [
       "0.5698795952473726"
      ]
     },
     "execution_count": 40,
     "metadata": {},
     "output_type": "execute_result"
    }
   ],
   "source": [
    "rmse(y_train, preds)"
   ]
  },
  {
   "cell_type": "markdown",
   "id": "90cf69e0",
   "metadata": {},
   "source": [
    "## Validation Set"
   ]
  },
  {
   "cell_type": "code",
   "execution_count": 41,
   "id": "d60161d5",
   "metadata": {},
   "outputs": [
    {
     "name": "stderr",
     "output_type": "stream",
     "text": [
      "/Users/bajajn/anaconda3/lib/python3.8/site-packages/pandas/core/series.py:4460: SettingWithCopyWarning: \n",
      "A value is trying to be set on a copy of a slice from a DataFrame\n",
      "\n",
      "See the caveats in the documentation: https://pandas.pydata.org/pandas-docs/stable/user_guide/indexing.html#returning-a-view-versus-a-copy\n",
      "  return super().fillna(\n"
     ]
    },
    {
     "data": {
      "text/plain": [
       "0.5461400989303825"
      ]
     },
     "execution_count": 41,
     "metadata": {},
     "output_type": "execute_result"
    }
   ],
   "source": [
    "X_val = df_val[base]\n",
    "X_val.fillna(value=X_train.mean(), inplace=True)\n",
    "X_validation = X_val.values\n",
    "y_validation = y_val.values\n",
    "preds_val = slope + X_validation.dot(coefficient)\n",
    "\n",
    "rmse(y_validation, preds_val)"
   ]
  },
  {
   "cell_type": "code",
   "execution_count": 42,
   "id": "1f35bf4e",
   "metadata": {},
   "outputs": [],
   "source": [
    "def prepare_X(df):\n",
    "    df = df.copy()\n",
    "    df['age'] = 2017 - df['year']\n",
    "    base_features = ['engine_hp', 'engine_cylinders', 'highway_mpg', 'city_mpg', 'popularity', 'age']\n",
    "    X = df[base_features]\n",
    "    return X\n",
    "\n",
    "X_train = prepare_X(df_train)\n",
    "X_train = X_train.fillna(value=X_train.mean())\n",
    "\n",
    "X_val = prepare_X(df_val)\n",
    "X_val = X_val.fillna(value=X_train.mean())\n",
    "\n",
    "X = X_train.values\n",
    "y = y_train.values\n",
    "\n",
    "slope, coefficient = linear_model(X,y)\n",
    "y_pred = slope + X.dot(coefficient)\n",
    "    "
   ]
  },
  {
   "cell_type": "code",
   "execution_count": 43,
   "id": "b5846ce4",
   "metadata": {},
   "outputs": [
    {
     "data": {
      "text/plain": [
       "<AxesSubplot:ylabel='Count'>"
      ]
     },
     "execution_count": 43,
     "metadata": {},
     "output_type": "execute_result"
    },
    {
     "data": {
      "image/png": "[encoded data removed]",
      "text/plain": [
       "<Figure size 432x288 with 1 Axes>"
      ]
     },
     "metadata": {
      "needs_background": "light"
     },
     "output_type": "display_data"
    }
   ],
   "source": [
    "sns.histplot(y_pred, alpha=0.5, color='red')\n",
    "sns.histplot(y, alpha=0.5, color='blue')"
   ]
  },
  {
   "cell_type": "code",
   "execution_count": 44,
   "id": "95193120",
   "metadata": {},
   "outputs": [
    {
     "data": {
      "text/plain": [
       "0.2608299264232249"
      ]
     },
     "execution_count": 44,
     "metadata": {},
     "output_type": "execute_result"
    }
   ],
   "source": [
    "rmse(y, y_pred)"
   ]
  },
  {
   "cell_type": "code",
   "execution_count": 45,
   "id": "c150a207",
   "metadata": {},
   "outputs": [
    {
     "data": {
      "text/plain": [
       "0.25834737652333856"
      ]
     },
     "execution_count": 45,
     "metadata": {},
     "output_type": "execute_result"
    }
   ],
   "source": [
    "X = X_val.values\n",
    "y = y_val.values\n",
    "\n",
    "y_pred = slope + X.dot(coefficient)\n",
    "rmse(y, y_pred)"
   ]
  },
  {
   "cell_type": "code",
   "execution_count": 46,
   "id": "05958c81",
   "metadata": {},
   "outputs": [
    {
     "data": {
      "text/plain": [
       "<AxesSubplot:ylabel='Count'>"
      ]
     },
     "execution_count": 46,
     "metadata": {},
     "output_type": "execute_result"
    },
    {
     "data": {
      "image/png": "[encoded data removed]",
      "text/plain": [
       "<Figure size 432x288 with 1 Axes>"
      ]
     },
     "metadata": {
      "needs_background": "light"
     },
     "output_type": "display_data"
    }
   ],
   "source": [
    "sns.histplot(y_pred, alpha=0.5, color='red')\n",
    "sns.histplot(y, alpha=0.5, color='blue')"
   ]
  },
  {
   "cell_type": "markdown",
   "id": "3f73528f",
   "metadata": {},
   "source": [
    "## Add categorical variables"
   ]
  },
  {
   "cell_type": "code",
   "execution_count": 47,
   "id": "3d589c92",
   "metadata": {},
   "outputs": [
    {
     "data": {
      "text/plain": [
       "make                  object\n",
       "model                 object\n",
       "year                   int64\n",
       "engine_fuel_type      object\n",
       "engine_hp            float64\n",
       "engine_cylinders     float64\n",
       "transmission_type     object\n",
       "driven_wheels         object\n",
       "number_of_doors      float64\n",
       "market_category       object\n",
       "vehicle_size          object\n",
       "vehicle_style         object\n",
       "highway_mpg            int64\n",
       "city_mpg               int64\n",
       "popularity             int64\n",
       "msrp                   int64\n",
       "dtype: object"
      ]
     },
     "execution_count": 47,
     "metadata": {},
     "output_type": "execute_result"
    }
   ],
   "source": [
    "df.dtypes"
   ]
  },
  {
   "cell_type": "code",
   "execution_count": 48,
   "id": "f657ac61",
   "metadata": {},
   "outputs": [],
   "source": [
    "def prepare_X(df_subset):\n",
    "    df_subset = df_subset.copy()\n",
    "    \n",
    "    df_subset['age'] = 2017 - df_subset['year']\n",
    "\n",
    "    cat_cols = ['number_of_doors', 'make','engine_fuel_type',\n",
    "                'transmission_type','driven_wheels','market_category',\n",
    "                'vehicle_size','vehicle_style']\n",
    "\n",
    "    num_features = ['engine_hp', 'engine_cylinders', 'highway_mpg', \n",
    "                    'city_mpg', 'popularity', 'age']\n",
    "    \n",
    "    \n",
    "\n",
    "    features = num_features.copy()\n",
    "\n",
    "    for cols in cat_cols:\n",
    "        if cols == 'number_of_doors':\n",
    "            for val in [2,3,4]:\n",
    "                df_subset['%s_%s' % (cols, val)] = (df_subset[cols] == val).astype('int')\n",
    "                features.append('%s_%s' % (cols, val))\n",
    "        \n",
    "        else:\n",
    "            top_5 = df[cols].value_counts().head().index.values\n",
    "            for val in top_5:\n",
    "                df_subset['%s_%s' % (cols, val)] = (df_subset[cols] == val).astype('int')\n",
    "                features.append('%s_%s' % (cols, val))\n",
    "    \n",
    "    df_num = df_subset[features]\n",
    "    df_num = df_num.fillna(value=df_num.mean())\n",
    "    \n",
    "    X = df_num.values\n",
    "    \n",
    "    return X\n",
    "        "
   ]
  },
  {
   "cell_type": "code",
   "execution_count": 49,
   "id": "2bb363c6",
   "metadata": {},
   "outputs": [],
   "source": [
    "\n",
    "X_train = prepare_X(df_train)\n",
    "X_val = prepare_X(df_val)"
   ]
  },
  {
   "cell_type": "code",
   "execution_count": 50,
   "id": "591c2e25",
   "metadata": {},
   "outputs": [
    {
     "data": {
      "text/plain": [
       "array([[275.,   6.,  18., ...,   0.,   0.,   0.],\n",
       "       [170.,   4.,  38., ...,   0.,   0.,   0.],\n",
       "       [248.,   6.,  28., ...,   0.,   0.,   0.],\n",
       "       ...,\n",
       "       [207.,   6.,  17., ...,   0.,   0.,   0.],\n",
       "       [201.,   4.,  29., ...,   0.,   0.,   1.],\n",
       "       [150.,   4.,  24., ...,   0.,   0.,   0.]])"
      ]
     },
     "execution_count": 50,
     "metadata": {},
     "output_type": "execute_result"
    }
   ],
   "source": [
    "X_train"
   ]
  },
  {
   "cell_type": "code",
   "execution_count": 51,
   "id": "3a7e4a13",
   "metadata": {},
   "outputs": [
    {
     "name": "stdout",
     "output_type": "stream",
     "text": [
      "12818.573213402502\n",
      "18479.170738201352\n"
     ]
    }
   ],
   "source": [
    "X = X_train\n",
    "y = y_train.values\n",
    "\n",
    "slope, coefficient = linear_model(X,y)\n",
    "y_pred = slope + X.dot(coefficient)\n",
    "\n",
    "#TRaining score\n",
    "print(rmse(y, y_pred))\n",
    "\n",
    "X = X_val\n",
    "y = y_val.values\n",
    "\n",
    "y_pred = slope + X.dot(coefficient)\n",
    "\n",
    "\n",
    "#Validation score\n",
    "print(rmse(y, y_pred))"
   ]
  },
  {
   "cell_type": "markdown",
   "id": "3f707521",
   "metadata": {},
   "source": [
    "# Regularisation"
   ]
  },
  {
   "cell_type": "code",
   "execution_count": 52,
   "id": "8346b49d",
   "metadata": {},
   "outputs": [],
   "source": [
    "def linear_model_reg(x, y, alpha=0.01):\n",
    "    \n",
    "    x0 = np.ones((x.shape[0],1))\n",
    "    x = np.hstack((x0, x))\n",
    "    \n",
    "    features_transpose = x.T.dot(x)\n",
    "    features_transpose = features_transpose + alpha*np.eye(features_transpose.shape[0])\n",
    "    features_transpose_inv = np.linalg.inv(features_transpose)\n",
    "    weights = features_transpose_inv.dot(x.T).dot(y)\n",
    "    \n",
    "    return [weights[0], weights[1:]]"
   ]
  },
  {
   "cell_type": "code",
   "execution_count": 53,
   "id": "e6c5c632",
   "metadata": {},
   "outputs": [
    {
     "name": "stdout",
     "output_type": "stream",
     "text": [
      "0.2113703127590486\n",
      "0.2078166107610445\n"
     ]
    }
   ],
   "source": [
    "X = X_train\n",
    "y = y_train.values\n",
    "\n",
    "slope, coefficient = linear_model_reg(X,y)\n",
    "y_pred = slope + X.dot(coefficient)\n",
    "\n",
    "#TRaining score\n",
    "print(rmse(y, y_pred))\n",
    "\n",
    "X = X_val\n",
    "y = y_val.values\n",
    "\n",
    "y_pred = slope + X.dot(coefficient)\n",
    "\n",
    "\n",
    "#Validation score\n",
    "print(rmse(y, y_pred))"
   ]
  },
  {
   "cell_type": "markdown",
   "id": "100b9c92",
   "metadata": {},
   "source": [
    "## Tuning the model\n"
   ]
  },
  {
   "cell_type": "code",
   "execution_count": 54,
   "id": "41b333cf",
   "metadata": {},
   "outputs": [
    {
     "name": "stdout",
     "output_type": "stream",
     "text": [
      "train score 0.21139541519195462, validation score 0.2077892035604911 for r 0.1\n",
      "train score 0.2113703127590486, validation score 0.2078166107610445 for r 0.01\n",
      "train score 0.21137001903492744, validation score 0.2078230752297893 for r 0.001\n",
      "train score 0.21137001605137914, validation score 0.20782376887950693 for r 0.0001\n",
      "train score 0.21137001603343117, validation score 0.207823802146192 for r 1e-05\n"
     ]
    }
   ],
   "source": [
    "for r in [0.1, 0.01, 0.001, 0.0001, 0.00001]:\n",
    "    \n",
    "    X = X_train\n",
    "    y = y_train.values\n",
    "\n",
    "    slope, coefficient = linear_model_reg(X,y, r)\n",
    "    y_pred = slope + X.dot(coefficient)\n",
    "\n",
    "    #TRaining score\n",
    "    training_score = rmse(y, y_pred)\n",
    "\n",
    "    X = X_val\n",
    "    y = y_val.values\n",
    "\n",
    "    y_pred = slope + X.dot(coefficient)\n",
    "\n",
    "\n",
    "    #Validation score\n",
    "    val_score = rmse(y, y_pred)\n",
    "    \n",
    "    print(f\"train score {training_score}, validation score {val_score} for r {r}\")"
   ]
  },
  {
   "cell_type": "markdown",
   "id": "ce4edd13",
   "metadata": {},
   "source": [
    "## Test our model and use our model"
   ]
  },
  {
   "cell_type": "code",
   "execution_count": 55,
   "id": "4066e976",
   "metadata": {},
   "outputs": [],
   "source": [
    "df_full_train = pd.concat([df_train, df_val])\n",
    "df_full_train = df_full_train.reset_index(drop=True)\n",
    "y_full = np.concatenate([y_train, y_val])\n",
    "X = prepare_X(df_full_train)\n",
    "y = y_full"
   ]
  },
  {
   "cell_type": "code",
   "execution_count": 56,
   "id": "7524d4a6",
   "metadata": {},
   "outputs": [],
   "source": [
    "w0, w1 = linear_model_reg(X, y, alpha=0.01)"
   ]
  },
  {
   "cell_type": "code",
   "execution_count": 57,
   "id": "a0d954b6",
   "metadata": {},
   "outputs": [],
   "source": [
    "pred = w0 + X.dot(w1)"
   ]
  },
  {
   "cell_type": "code",
   "execution_count": 58,
   "id": "321ab5af",
   "metadata": {},
   "outputs": [
    {
     "name": "stdout",
     "output_type": "stream",
     "text": [
      "0.21137001603343117\n"
     ]
    }
   ],
   "source": [
    "train_score = rmse(y, pred)\n",
    "print(training_score)"
   ]
  },
  {
   "cell_type": "code",
   "execution_count": 59,
   "id": "c5ab7199",
   "metadata": {},
   "outputs": [
    {
     "name": "stdout",
     "output_type": "stream",
     "text": [
      "0.20213737665343914\n"
     ]
    }
   ],
   "source": [
    "X_test = prepare_X(df_test)\n",
    "pred = w0 + X_test.dot(w1)\n",
    "\n",
    "score = rmse(y_test, pred)\n",
    "print(score)"
   ]
  },
  {
   "cell_type": "code",
   "execution_count": 60,
   "id": "6b7e3196",
   "metadata": {},
   "outputs": [
    {
     "data": {
      "text/plain": [
       "<AxesSubplot:xlabel='msrp', ylabel='Count'>"
      ]
     },
     "execution_count": 60,
     "metadata": {},
     "output_type": "execute_result"
    },
    {
     "data": {
      "image/png": "[encoded data removed]",
      "text/plain": [
       "<Figure size 432x288 with 1 Axes>"
      ]
     },
     "metadata": {
      "needs_background": "light"
     },
     "output_type": "display_data"
    }
   ],
   "source": [
    "sns.histplot(y_test, color='red', alpha=0.5)\n",
    "sns.histplot(pred, color='blue', alpha=0.5)"
   ]
  },
  {
   "cell_type": "code",
   "execution_count": 61,
   "id": "e44d7b17",
   "metadata": {},
   "outputs": [
    {
     "data": {
      "text/plain": [
       "Text(0, 0.5, 'Predicted Price')"
      ]
     },
     "execution_count": 61,
     "metadata": {},
     "output_type": "execute_result"
    },
    {
     "data": {
      "image/png": "[encoded data removed]",
      "text/plain": [
       "<Figure size 432x288 with 1 Axes>"
      ]
     },
     "metadata": {
      "needs_background": "light"
     },
     "output_type": "display_data"
    }
   ],
   "source": [
    "#Lets put the exponent back on the car price\n",
    "ax = plt.scatter(x=y_test, y=pred)\n",
    "plt.xlabel(\"Actual Price\")\n",
    "plt.ylabel(\"Predicted Price\")"
   ]
  },
  {
   "cell_type": "code",
   "execution_count": 62,
   "id": "5787e92a",
   "metadata": {},
   "outputs": [
    {
     "name": "stdout",
     "output_type": "stream",
     "text": [
      "0.8404066091307689\n"
     ]
    }
   ],
   "source": [
    "#r2 score\n",
    "print(r2_score(y_test, pred))"
   ]
  },
  {
   "cell_type": "code",
   "execution_count": 63,
   "id": "f93be68b",
   "metadata": {},
   "outputs": [
    {
     "data": {
      "text/plain": [
       "(array([ 39.,  78., 360., 874., 671., 225., 115.,  18.,   2.,   2.]),\n",
       " array([-1.43418062, -1.06415268, -0.69412473, -0.32409679,  0.04593116,\n",
       "         0.4159591 ,  0.78598705,  1.15601499,  1.52604294,  1.89607088,\n",
       "         2.26609883]),\n",
       " <BarContainer object of 10 artists>)"
      ]
     },
     "execution_count": 63,
     "metadata": {},
     "output_type": "execute_result"
    },
    {
     "data": {
      "image/png": "[encoded data removed]",
      "text/plain": [
       "<Figure size 432x288 with 1 Axes>"
      ]
     },
     "metadata": {
      "needs_background": "light"
     },
     "output_type": "display_data"
    }
   ],
   "source": [
    "#make sure errors are normally distributed\n",
    "plt.hist(y_test - pred)"
   ]
  }
 ],
 "metadata": {
  "kernelspec": {
   "display_name": "Python 3 (ipykernel)",
   "language": "python",
   "name": "python3"
  },
  "language_info": {
   "codemirror_mode": {
    "name": "ipython",
    "version": 3
   },
   "file_extension": ".py",
   "mimetype": "text/x-python",
   "name": "python",
   "nbconvert_exporter": "python",
   "pygments_lexer": "ipython3",
   "version": "3.8.8"
  }
 },
 "nbformat": 4,
 "nbformat_minor": 5
}
