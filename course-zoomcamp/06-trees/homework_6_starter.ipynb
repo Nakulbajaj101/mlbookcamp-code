{
  "cells": [
    {
      "cell_type": "markdown",
      "metadata": {
        "id": "-JrenrSGmAeg"
      },
      "source": [
        "**HOMEWORK**  \n",
        "\n",
        "The goal of this homework is to create a regression model for predicting housing prices (column 'median_house_value').  \n",
        "\n",
        "In this homework we'll again use the California Housing Prices dataset - the same one we used in homework 2 and 3.\n",
        "\n",
        "You can take it from [Kaggle](https://www.kaggle.com/datasets/camnugent/california-housing-prices) or download using wget link mentioned below:\n",
        "\n",
        "```\n",
        "wget https://raw.githubusercontent.com/alexeygrigorev/datasets/master/housing.csv\n",
        "\n",
        "```\n",
        "\n"
      ]
    },
    {
      "cell_type": "code",
      "execution_count": 1,
      "metadata": {
        "id": "nLosiCNJUjDM"
      },
      "outputs": [],
      "source": [
        "#@ IMPORTING LIBRARIES AND DEPENDENCIES:\n",
        "import re\n",
        "import numpy as np\n",
        "import pandas as pd\n",
        "import seaborn as sns\n",
        "import xgboost as xgb\n",
        "import matplotlib.pyplot as plt\n",
        "from tqdm.auto import tqdm\n",
        "from sklearn.tree import DecisionTreeRegressor\n",
        "from sklearn.tree import export_text\n",
        "from sklearn.feature_extraction import DictVectorizer\n",
        "from sklearn.model_selection import train_test_split\n",
        "from sklearn.ensemble import RandomForestRegressor\n",
        "from sklearn.metrics import mean_squared_error\n",
        "\n",
        "%matplotlib inline"
      ]
    },
    {
      "cell_type": "code",
      "execution_count": 2,
      "metadata": {
        "id": "4Psk224nnyIF"
      },
      "outputs": [
        {
          "name": "stdout",
          "output_type": "stream",
          "text": [
            "--2022-10-18 22:40:25--  https://raw.githubusercontent.com/alexeygrigorev/datasets/master/housing.csv\n",
            "Resolving raw.githubusercontent.com (raw.githubusercontent.com)... 185.199.108.133, 185.199.109.133, 185.199.110.133, ...\n",
            "Connecting to raw.githubusercontent.com (raw.githubusercontent.com)|185.199.108.133|:443... connected.\n",
            "HTTP request sent, awaiting response... 200 OK\n",
            "Length: 1423529 (1.4M) [text/plain]\n",
            "Saving to: ‘housing.csv’\n",
            "\n",
            "housing.csv         100%[===================>]   1.36M  6.19MB/s    in 0.2s    \n",
            "\n",
            "2022-10-18 22:40:26 (6.19 MB/s) - ‘housing.csv’ saved [1423529/1423529]\n",
            "\n"
          ]
        }
      ],
      "source": [
        "#@ DOWNLOADING THE DATASET: UNCOMMENT BELOW:\n",
        "!wget https://raw.githubusercontent.com/alexeygrigorev/datasets/master/housing.csv"
      ]
    },
    {
      "cell_type": "code",
      "execution_count": 47,
      "metadata": {
        "id": "492Hn6-3n08G"
      },
      "outputs": [],
      "source": [
        "#@ READING DATASET:\n",
        "PATH = \"./housing.csv\"\n",
        "select_cols = [\"longitude\", \"latitude\", \"housing_median_age\", \"total_rooms\", \"total_bedrooms\", \"population\", \"households\", \n",
        "               \"median_income\", \"median_house_value\", \"ocean_proximity\"]\n",
        "df = pd.read_csv(PATH, usecols=select_cols)\n",
        "df.total_bedrooms = df.total_bedrooms.fillna(0)"
      ]
    },
    {
      "cell_type": "markdown",
      "metadata": {
        "id": "OqXppJ_Ro0H0"
      },
      "source": [
        "- Apply the log transform to `median_house_value`. \n",
        "- Do train/validation/test split with 60%/20%/20% distribution.\n",
        "- Use the `train_test_split` function and set the `random_state parameter` to 1."
      ]
    },
    {
      "cell_type": "code",
      "execution_count": 48,
      "metadata": {
        "id": "W1MmdcRDpHS1"
      },
      "outputs": [],
      "source": [
        "#@ SPLITTING THE DATASET FOR TRAINING AND TEST:\n",
        "train_subset, test = train_test_split(df, test_size=0.2, random_state=1)\n",
        "train, val = train_test_split(train_subset, test_size=0.25, random_state=1)  "
      ]
    },
    {
      "cell_type": "code",
      "execution_count": 49,
      "metadata": {},
      "outputs": [
        {
          "data": {
            "text/html": [
              "<div>\n",
              "<style scoped>\n",
              "    .dataframe tbody tr th:only-of-type {\n",
              "        vertical-align: middle;\n",
              "    }\n",
              "\n",
              "    .dataframe tbody tr th {\n",
              "        vertical-align: top;\n",
              "    }\n",
              "\n",
              "    .dataframe thead th {\n",
              "        text-align: right;\n",
              "    }\n",
              "</style>\n",
              "<table border=\"1\" class=\"dataframe\">\n",
              "  <thead>\n",
              "    <tr style=\"text-align: right;\">\n",
              "      <th></th>\n",
              "      <th>longitude</th>\n",
              "      <th>latitude</th>\n",
              "      <th>housing_median_age</th>\n",
              "      <th>total_rooms</th>\n",
              "      <th>total_bedrooms</th>\n",
              "      <th>population</th>\n",
              "      <th>households</th>\n",
              "      <th>median_income</th>\n",
              "      <th>median_house_value</th>\n",
              "      <th>ocean_proximity</th>\n",
              "    </tr>\n",
              "  </thead>\n",
              "  <tbody>\n",
              "    <tr>\n",
              "      <th>9107</th>\n",
              "      <td>-118.18</td>\n",
              "      <td>34.63</td>\n",
              "      <td>19.0</td>\n",
              "      <td>3562.0</td>\n",
              "      <td>606.0</td>\n",
              "      <td>1677.0</td>\n",
              "      <td>578.0</td>\n",
              "      <td>4.1573</td>\n",
              "      <td>228100.0</td>\n",
              "      <td>INLAND</td>\n",
              "    </tr>\n",
              "    <tr>\n",
              "      <th>13999</th>\n",
              "      <td>-116.90</td>\n",
              "      <td>34.69</td>\n",
              "      <td>10.0</td>\n",
              "      <td>337.0</td>\n",
              "      <td>102.0</td>\n",
              "      <td>108.0</td>\n",
              "      <td>50.0</td>\n",
              "      <td>0.4999</td>\n",
              "      <td>55000.0</td>\n",
              "      <td>INLAND</td>\n",
              "    </tr>\n",
              "    <tr>\n",
              "      <th>5610</th>\n",
              "      <td>-118.26</td>\n",
              "      <td>33.78</td>\n",
              "      <td>27.0</td>\n",
              "      <td>1672.0</td>\n",
              "      <td>491.0</td>\n",
              "      <td>1723.0</td>\n",
              "      <td>462.0</td>\n",
              "      <td>2.0458</td>\n",
              "      <td>174500.0</td>\n",
              "      <td>NEAR OCEAN</td>\n",
              "    </tr>\n",
              "    <tr>\n",
              "      <th>13533</th>\n",
              "      <td>-117.33</td>\n",
              "      <td>34.17</td>\n",
              "      <td>5.0</td>\n",
              "      <td>4718.0</td>\n",
              "      <td>1140.0</td>\n",
              "      <td>2564.0</td>\n",
              "      <td>1056.0</td>\n",
              "      <td>2.9877</td>\n",
              "      <td>119900.0</td>\n",
              "      <td>INLAND</td>\n",
              "    </tr>\n",
              "    <tr>\n",
              "      <th>2953</th>\n",
              "      <td>-119.02</td>\n",
              "      <td>35.35</td>\n",
              "      <td>42.0</td>\n",
              "      <td>1239.0</td>\n",
              "      <td>251.0</td>\n",
              "      <td>776.0</td>\n",
              "      <td>272.0</td>\n",
              "      <td>1.9830</td>\n",
              "      <td>63300.0</td>\n",
              "      <td>INLAND</td>\n",
              "    </tr>\n",
              "  </tbody>\n",
              "</table>\n",
              "</div>"
            ],
            "text/plain": [
              "       longitude  latitude  housing_median_age  total_rooms  total_bedrooms  \\\n",
              "9107     -118.18     34.63                19.0       3562.0           606.0   \n",
              "13999    -116.90     34.69                10.0        337.0           102.0   \n",
              "5610     -118.26     33.78                27.0       1672.0           491.0   \n",
              "13533    -117.33     34.17                 5.0       4718.0          1140.0   \n",
              "2953     -119.02     35.35                42.0       1239.0           251.0   \n",
              "\n",
              "       population  households  median_income  median_house_value  \\\n",
              "9107       1677.0       578.0         4.1573            228100.0   \n",
              "13999       108.0        50.0         0.4999             55000.0   \n",
              "5610       1723.0       462.0         2.0458            174500.0   \n",
              "13533      2564.0      1056.0         2.9877            119900.0   \n",
              "2953        776.0       272.0         1.9830             63300.0   \n",
              "\n",
              "      ocean_proximity  \n",
              "9107           INLAND  \n",
              "13999          INLAND  \n",
              "5610       NEAR OCEAN  \n",
              "13533          INLAND  \n",
              "2953           INLAND  "
            ]
          },
          "execution_count": 49,
          "metadata": {},
          "output_type": "execute_result"
        }
      ],
      "source": [
        "train.head()"
      ]
    },
    {
      "cell_type": "markdown",
      "metadata": {
        "id": "5VKq8FX7qIVM"
      },
      "source": [
        "- We will use `DictVectorizer` to turn train and validation into matrices."
      ]
    },
    {
      "cell_type": "code",
      "execution_count": 59,
      "metadata": {
        "id": "WnfFrWe9qtuc"
      },
      "outputs": [],
      "source": [
        "#@ IMPLEMENTATION OF DICTVECTORIZER:\n",
        "features = [\"longitude\", \"latitude\", \"housing_median_age\", \"total_rooms\", \"total_bedrooms\", \"population\", \"households\", \n",
        "            \"median_income\", \"ocean_proximity\"]\n",
        "target = 'median_house_value'\n",
        "\n",
        "X_train = train[features]\n",
        "X_val = val[features]\n",
        "X_test = test[features]\n",
        "\n",
        "y_train = np.log(train[target])\n",
        "y_val = np.log(val[target])\n",
        "y_test = np.log(test[target])\n",
        "\n",
        "dv = DictVectorizer(sparse=False)\n",
        "X_train_dict = X_train.to_dict(orient='records')\n",
        "X_val_dict = X_val.to_dict(orient='records')\n",
        "X_test_dict = X_test.to_dict(orient='records')\n",
        "\n",
        "X_train_data = dv.fit_transform(X_train_dict)\n",
        "X_val_data = dv.transform(X_val_dict)\n",
        "X_test_data = dv.transform(X_test_dict)"
      ]
    },
    {
      "cell_type": "markdown",
      "metadata": {
        "id": "qvxmhaD5hmAK"
      },
      "source": [
        "**Question 1**\n",
        "\n",
        "Let's train a decision tree regressor to predict the `median_house_value` variable.\n",
        "\n",
        "Train a model with `max_depth=1`."
      ]
    },
    {
      "cell_type": "code",
      "execution_count": 68,
      "metadata": {
        "id": "cqBcSbpIq7kJ"
      },
      "outputs": [
        {
          "data": {
            "text/html": [
              "<style>#sk-container-id-7 {color: black;background-color: white;}#sk-container-id-7 pre{padding: 0;}#sk-container-id-7 div.sk-toggleable {background-color: white;}#sk-container-id-7 label.sk-toggleable__label {cursor: pointer;display: block;width: 100%;margin-bottom: 0;padding: 0.3em;box-sizing: border-box;text-align: center;}#sk-container-id-7 label.sk-toggleable__label-arrow:before {content: \"▸\";float: left;margin-right: 0.25em;color: #696969;}#sk-container-id-7 label.sk-toggleable__label-arrow:hover:before {color: black;}#sk-container-id-7 div.sk-estimator:hover label.sk-toggleable__label-arrow:before {color: black;}#sk-container-id-7 div.sk-toggleable__content {max-height: 0;max-width: 0;overflow: hidden;text-align: left;background-color: #f0f8ff;}#sk-container-id-7 div.sk-toggleable__content pre {margin: 0.2em;color: black;border-radius: 0.25em;background-color: #f0f8ff;}#sk-container-id-7 input.sk-toggleable__control:checked~div.sk-toggleable__content {max-height: 200px;max-width: 100%;overflow: auto;}#sk-container-id-7 input.sk-toggleable__control:checked~label.sk-toggleable__label-arrow:before {content: \"▾\";}#sk-container-id-7 div.sk-estimator input.sk-toggleable__control:checked~label.sk-toggleable__label {background-color: #d4ebff;}#sk-container-id-7 div.sk-label input.sk-toggleable__control:checked~label.sk-toggleable__label {background-color: #d4ebff;}#sk-container-id-7 input.sk-hidden--visually {border: 0;clip: rect(1px 1px 1px 1px);clip: rect(1px, 1px, 1px, 1px);height: 1px;margin: -1px;overflow: hidden;padding: 0;position: absolute;width: 1px;}#sk-container-id-7 div.sk-estimator {font-family: monospace;background-color: #f0f8ff;border: 1px dotted black;border-radius: 0.25em;box-sizing: border-box;margin-bottom: 0.5em;}#sk-container-id-7 div.sk-estimator:hover {background-color: #d4ebff;}#sk-container-id-7 div.sk-parallel-item::after {content: \"\";width: 100%;border-bottom: 1px solid gray;flex-grow: 1;}#sk-container-id-7 div.sk-label:hover label.sk-toggleable__label {background-color: #d4ebff;}#sk-container-id-7 div.sk-serial::before {content: \"\";position: absolute;border-left: 1px solid gray;box-sizing: border-box;top: 0;bottom: 0;left: 50%;z-index: 0;}#sk-container-id-7 div.sk-serial {display: flex;flex-direction: column;align-items: center;background-color: white;padding-right: 0.2em;padding-left: 0.2em;position: relative;}#sk-container-id-7 div.sk-item {position: relative;z-index: 1;}#sk-container-id-7 div.sk-parallel {display: flex;align-items: stretch;justify-content: center;background-color: white;position: relative;}#sk-container-id-7 div.sk-item::before, #sk-container-id-7 div.sk-parallel-item::before {content: \"\";position: absolute;border-left: 1px solid gray;box-sizing: border-box;top: 0;bottom: 0;left: 50%;z-index: -1;}#sk-container-id-7 div.sk-parallel-item {display: flex;flex-direction: column;z-index: 1;position: relative;background-color: white;}#sk-container-id-7 div.sk-parallel-item:first-child::after {align-self: flex-end;width: 50%;}#sk-container-id-7 div.sk-parallel-item:last-child::after {align-self: flex-start;width: 50%;}#sk-container-id-7 div.sk-parallel-item:only-child::after {width: 0;}#sk-container-id-7 div.sk-dashed-wrapped {border: 1px dashed gray;margin: 0 0.4em 0.5em 0.4em;box-sizing: border-box;padding-bottom: 0.4em;background-color: white;}#sk-container-id-7 div.sk-label label {font-family: monospace;font-weight: bold;display: inline-block;line-height: 1.2em;}#sk-container-id-7 div.sk-label-container {text-align: center;}#sk-container-id-7 div.sk-container {/* jupyter's `normalize.less` sets `[hidden] { display: none; }` but bootstrap.min.css set `[hidden] { display: none !important; }` so we also need the `!important` here to be able to override the default hidden behavior on the sphinx rendered scikit-learn.org. See: https://github.com/scikit-learn/scikit-learn/issues/21755 */display: inline-block !important;position: relative;}#sk-container-id-7 div.sk-text-repr-fallback {display: none;}</style><div id=\"sk-container-id-7\" class=\"sk-top-container\"><div class=\"sk-text-repr-fallback\"><pre>DecisionTreeRegressor(max_depth=1)</pre><b>In a Jupyter environment, please rerun this cell to show the HTML representation or trust the notebook. <br />On GitHub, the HTML representation is unable to render, please try loading this page with nbviewer.org.</b></div><div class=\"sk-container\" hidden><div class=\"sk-item\"><div class=\"sk-estimator sk-toggleable\"><input class=\"sk-toggleable__control sk-hidden--visually\" id=\"sk-estimator-id-7\" type=\"checkbox\" checked><label for=\"sk-estimator-id-7\" class=\"sk-toggleable__label sk-toggleable__label-arrow\">DecisionTreeRegressor</label><div class=\"sk-toggleable__content\"><pre>DecisionTreeRegressor(max_depth=1)</pre></div></div></div></div></div>"
            ],
            "text/plain": [
              "DecisionTreeRegressor(max_depth=1)"
            ]
          },
          "execution_count": 68,
          "metadata": {},
          "output_type": "execute_result"
        }
      ],
      "source": [
        "#@ TRAINING THE REGRESSION MODEL:\n",
        "model = DecisionTreeRegressor(max_depth=1)\n",
        "model.fit(X_train_data, y_train)"
      ]
    },
    {
      "cell_type": "code",
      "execution_count": 69,
      "metadata": {},
      "outputs": [
        {
          "name": "stderr",
          "output_type": "stream",
          "text": [
            "/Users/bajajn/anaconda3/envs/ml-zoomcamp/lib/python3.9/site-packages/sklearn/utils/deprecation.py:87: FutureWarning: Function get_feature_names is deprecated; get_feature_names is deprecated in 1.0 and will be removed in 1.2. Please use get_feature_names_out instead.\n",
            "  warnings.warn(msg, category=FutureWarning)\n"
          ]
        },
        {
          "data": {
            "text/plain": [
              "['households',\n",
              " 'housing_median_age',\n",
              " 'latitude',\n",
              " 'longitude',\n",
              " 'median_income',\n",
              " 'ocean_proximity=<1H OCEAN',\n",
              " 'ocean_proximity=INLAND',\n",
              " 'ocean_proximity=ISLAND',\n",
              " 'ocean_proximity=NEAR BAY',\n",
              " 'ocean_proximity=NEAR OCEAN',\n",
              " 'population',\n",
              " 'total_bedrooms',\n",
              " 'total_rooms']"
            ]
          },
          "execution_count": 69,
          "metadata": {},
          "output_type": "execute_result"
        }
      ],
      "source": [
        "dv.get_feature_names()"
      ]
    },
    {
      "cell_type": "code",
      "execution_count": 71,
      "metadata": {
        "id": "sLAnqRwuikqQ"
      },
      "outputs": [
        {
          "name": "stdout",
          "output_type": "stream",
          "text": [
            "|--- ocean_proximity=INLAND <= 0.50\n",
            "|   |--- value: [12.31]\n",
            "|--- ocean_proximity=INLAND >  0.50\n",
            "|   |--- value: [11.61]\n",
            "\n"
          ]
        }
      ],
      "source": [
        "#@ INSPECTION:\n",
        "print(export_text(decision_tree=model, feature_names=list(dv.get_feature_names_out())))"
      ]
    },
    {
      "cell_type": "markdown",
      "metadata": {
        "id": "JNBm-qeRp6aZ"
      },
      "source": [
        "- Which feature is used for splitting the data?\n",
        "\n",
        "- Answer:"
      ]
    },
    {
      "cell_type": "markdown",
      "metadata": {
        "id": "Xhnbdy-CqQoB"
      },
      "source": [
        "**Question 2**\n",
        "\n",
        "Train a random forest model with these parameters:\n",
        "\n",
        "- `n_estimators=10`  \n",
        "- `random_state=1`  \n",
        "- `n_jobs=-1` (optional-to make training faster)"
      ]
    },
    {
      "cell_type": "code",
      "execution_count": 72,
      "metadata": {
        "id": "2w-YSGYMisFt"
      },
      "outputs": [
        {
          "data": {
            "text/html": [
              "<style>#sk-container-id-8 {color: black;background-color: white;}#sk-container-id-8 pre{padding: 0;}#sk-container-id-8 div.sk-toggleable {background-color: white;}#sk-container-id-8 label.sk-toggleable__label {cursor: pointer;display: block;width: 100%;margin-bottom: 0;padding: 0.3em;box-sizing: border-box;text-align: center;}#sk-container-id-8 label.sk-toggleable__label-arrow:before {content: \"▸\";float: left;margin-right: 0.25em;color: #696969;}#sk-container-id-8 label.sk-toggleable__label-arrow:hover:before {color: black;}#sk-container-id-8 div.sk-estimator:hover label.sk-toggleable__label-arrow:before {color: black;}#sk-container-id-8 div.sk-toggleable__content {max-height: 0;max-width: 0;overflow: hidden;text-align: left;background-color: #f0f8ff;}#sk-container-id-8 div.sk-toggleable__content pre {margin: 0.2em;color: black;border-radius: 0.25em;background-color: #f0f8ff;}#sk-container-id-8 input.sk-toggleable__control:checked~div.sk-toggleable__content {max-height: 200px;max-width: 100%;overflow: auto;}#sk-container-id-8 input.sk-toggleable__control:checked~label.sk-toggleable__label-arrow:before {content: \"▾\";}#sk-container-id-8 div.sk-estimator input.sk-toggleable__control:checked~label.sk-toggleable__label {background-color: #d4ebff;}#sk-container-id-8 div.sk-label input.sk-toggleable__control:checked~label.sk-toggleable__label {background-color: #d4ebff;}#sk-container-id-8 input.sk-hidden--visually {border: 0;clip: rect(1px 1px 1px 1px);clip: rect(1px, 1px, 1px, 1px);height: 1px;margin: -1px;overflow: hidden;padding: 0;position: absolute;width: 1px;}#sk-container-id-8 div.sk-estimator {font-family: monospace;background-color: #f0f8ff;border: 1px dotted black;border-radius: 0.25em;box-sizing: border-box;margin-bottom: 0.5em;}#sk-container-id-8 div.sk-estimator:hover {background-color: #d4ebff;}#sk-container-id-8 div.sk-parallel-item::after {content: \"\";width: 100%;border-bottom: 1px solid gray;flex-grow: 1;}#sk-container-id-8 div.sk-label:hover label.sk-toggleable__label {background-color: #d4ebff;}#sk-container-id-8 div.sk-serial::before {content: \"\";position: absolute;border-left: 1px solid gray;box-sizing: border-box;top: 0;bottom: 0;left: 50%;z-index: 0;}#sk-container-id-8 div.sk-serial {display: flex;flex-direction: column;align-items: center;background-color: white;padding-right: 0.2em;padding-left: 0.2em;position: relative;}#sk-container-id-8 div.sk-item {position: relative;z-index: 1;}#sk-container-id-8 div.sk-parallel {display: flex;align-items: stretch;justify-content: center;background-color: white;position: relative;}#sk-container-id-8 div.sk-item::before, #sk-container-id-8 div.sk-parallel-item::before {content: \"\";position: absolute;border-left: 1px solid gray;box-sizing: border-box;top: 0;bottom: 0;left: 50%;z-index: -1;}#sk-container-id-8 div.sk-parallel-item {display: flex;flex-direction: column;z-index: 1;position: relative;background-color: white;}#sk-container-id-8 div.sk-parallel-item:first-child::after {align-self: flex-end;width: 50%;}#sk-container-id-8 div.sk-parallel-item:last-child::after {align-self: flex-start;width: 50%;}#sk-container-id-8 div.sk-parallel-item:only-child::after {width: 0;}#sk-container-id-8 div.sk-dashed-wrapped {border: 1px dashed gray;margin: 0 0.4em 0.5em 0.4em;box-sizing: border-box;padding-bottom: 0.4em;background-color: white;}#sk-container-id-8 div.sk-label label {font-family: monospace;font-weight: bold;display: inline-block;line-height: 1.2em;}#sk-container-id-8 div.sk-label-container {text-align: center;}#sk-container-id-8 div.sk-container {/* jupyter's `normalize.less` sets `[hidden] { display: none; }` but bootstrap.min.css set `[hidden] { display: none !important; }` so we also need the `!important` here to be able to override the default hidden behavior on the sphinx rendered scikit-learn.org. See: https://github.com/scikit-learn/scikit-learn/issues/21755 */display: inline-block !important;position: relative;}#sk-container-id-8 div.sk-text-repr-fallback {display: none;}</style><div id=\"sk-container-id-8\" class=\"sk-top-container\"><div class=\"sk-text-repr-fallback\"><pre>RandomForestRegressor(n_estimators=10, n_jobs=-1, random_state=1)</pre><b>In a Jupyter environment, please rerun this cell to show the HTML representation or trust the notebook. <br />On GitHub, the HTML representation is unable to render, please try loading this page with nbviewer.org.</b></div><div class=\"sk-container\" hidden><div class=\"sk-item\"><div class=\"sk-estimator sk-toggleable\"><input class=\"sk-toggleable__control sk-hidden--visually\" id=\"sk-estimator-id-8\" type=\"checkbox\" checked><label for=\"sk-estimator-id-8\" class=\"sk-toggleable__label sk-toggleable__label-arrow\">RandomForestRegressor</label><div class=\"sk-toggleable__content\"><pre>RandomForestRegressor(n_estimators=10, n_jobs=-1, random_state=1)</pre></div></div></div></div></div>"
            ],
            "text/plain": [
              "RandomForestRegressor(n_estimators=10, n_jobs=-1, random_state=1)"
            ]
          },
          "execution_count": 72,
          "metadata": {},
          "output_type": "execute_result"
        }
      ],
      "source": [
        "#@ TRAINING RANDOM FOREST MODEL:\n",
        "rf = RandomForestRegressor(n_estimators=10, random_state=1, n_jobs=-1)\n",
        "rf.fit(X_train_data, y_train)\n"
      ]
    },
    {
      "cell_type": "code",
      "execution_count": 73,
      "metadata": {
        "id": "jCxUAO2Rq1Ps"
      },
      "outputs": [
        {
          "name": "stdout",
          "output_type": "stream",
          "text": [
            "rmse is 0.2453588910676007\n"
          ]
        }
      ],
      "source": [
        "#@ CALCULATING MEAN SQUARED ERROR:\n",
        "predictions = rf.predict(X_val_data)\n",
        "rmse = mean_squared_error(y_val, predictions, squared=False)\n",
        "print(f'rmse is {rmse}')"
      ]
    },
    {
      "cell_type": "markdown",
      "metadata": {
        "id": "jfcDllHxrTqu"
      },
      "source": [
        "- What's the RMSE of this model on validation?\n",
        "\n",
        "- Answer: "
      ]
    },
    {
      "cell_type": "markdown",
      "metadata": {
        "id": "Y7K69bFSrg_V"
      },
      "source": [
        "**Question 3**\n",
        "\n",
        "Now, let's experiment with the `n_estimators` parameter.\n",
        "\n",
        "- Try different values of this parameter from 10 to 200 with step 10.\n",
        "- Set `random_state` to 1.\n",
        "- Evaluate the model on the validation dataset."
      ]
    },
    {
      "cell_type": "code",
      "execution_count": 76,
      "metadata": {
        "id": "-oUFCQwOrQNN"
      },
      "outputs": [],
      "source": [
        "#@ TRAINING THE RANDOM FOREST MODEL:\n",
        "estimators = np.arange(10, 210, step=10)\n",
        "scores = []\n",
        "\n",
        "for est in estimators:\n",
        "    rf = RandomForestRegressor(n_estimators=est, random_state=1, n_jobs=-1)\n",
        "    rf.fit(X_train_data, y_train)\n",
        "    predictions = rf.predict(X_val_data)\n",
        "    rmse = mean_squared_error(y_val, predictions, squared=False)\n",
        "    scores.append((est, rmse))"
      ]
    },
    {
      "cell_type": "code",
      "execution_count": 80,
      "metadata": {
        "id": "3J-wFLh4s8Ky"
      },
      "outputs": [
        {
          "data": {
            "text/plain": [
              "Text(0.5, 0, 'Number of trees')"
            ]
          },
          "execution_count": 80,
          "metadata": {},
          "output_type": "execute_result"
        },
        {
          "data": {
            "image/png": "[encoded data removed]",
            "text/plain": [
              "<Figure size 640x480 with 1 Axes>"
            ]
          },
          "metadata": {},
          "output_type": "display_data"
        }
      ],
      "source": [
        "#@ INSPECTING THE RMSE SCORES:\n",
        "df = pd.DataFrame(data=scores, columns=['estimators', 'val_rmse'])\n",
        "plt.plot(df.estimators, df.val_rmse)\n",
        "plt.ylabel('rmse')\n",
        "plt.xlabel('Number of trees')\n",
        "\n",
        "\n",
        "# Answer is 150"
      ]
    },
    {
      "cell_type": "markdown",
      "metadata": {
        "id": "NAXZcW3AuC-d"
      },
      "source": [
        "- After which value of `n_estimators` does RMSE stop improving?\n",
        "\n",
        "- Answer: "
      ]
    },
    {
      "cell_type": "markdown",
      "metadata": {
        "id": "CYhRv3kEvWjK"
      },
      "source": [
        "**Question 4**\n",
        "\n",
        "Let's select the best `max_depth`:\n",
        "\n",
        "- Try different values of `max_depth`: [10, 15, 20, 25].\n",
        "- For each of these values, try different values of n_estimators from 10 till 200 (with step 10).\n",
        "- Fix the random seed: `random_state=1`."
      ]
    },
    {
      "cell_type": "code",
      "execution_count": 81,
      "metadata": {
        "id": "fO9TackKvKcS"
      },
      "outputs": [],
      "source": [
        "#@ TRAINING THE MODEL WITH DEPTH:\n",
        "depths = [10, 15, 20, 25]\n",
        "scores = []\n",
        "for est in estimators:\n",
        "    for dep in depths:\n",
        "        rf = RandomForestRegressor(n_estimators=est, max_depth=dep, random_state=1, n_jobs=-1)\n",
        "        rf.fit(X_train_data, y_train)\n",
        "        predictions = rf.predict(X_val_data)\n",
        "        rmse = mean_squared_error(y_val, predictions, squared=False)\n",
        "        scores.append((est, dep, rmse))\n"
      ]
    },
    {
      "cell_type": "code",
      "execution_count": 84,
      "metadata": {},
      "outputs": [
        {
          "data": {
            "text/plain": [
              "Text(0.5, 0, 'Number of trees')"
            ]
          },
          "execution_count": 84,
          "metadata": {},
          "output_type": "execute_result"
        },
        {
          "data": {
            "image/png": "[encoded data removed]",
            "text/plain": [
              "<Figure size 640x480 with 1 Axes>"
            ]
          },
          "metadata": {},
          "output_type": "display_data"
        }
      ],
      "source": [
        "df = pd.DataFrame(data=scores, columns=['estimators', 'depth', 'val_rmse'])\n",
        "for dep in depths:\n",
        "    df_subset = df[df.depth == dep].reset_index(drop=True)\n",
        "    plt.plot(df_subset.estimators, df_subset.val_rmse, label=f\"depth-{str(dep)}\")\n",
        "plt.ylabel('rmse')\n",
        "plt.legend()\n",
        "plt.xlabel('Number of trees')\n",
        "\n",
        "#Answer is 20 or 25, we can choose 20\n"
      ]
    },
    {
      "cell_type": "markdown",
      "metadata": {
        "id": "eCRCaKlSwp7D"
      },
      "source": [
        "- What's the best `max_depth`:\n",
        "\n",
        "- Answer:"
      ]
    },
    {
      "cell_type": "markdown",
      "metadata": {
        "id": "BDLbx3N5xAoY"
      },
      "source": [
        "**Question 5**\n",
        "\n",
        "We can extract feature importance information from tree-based models.\n",
        "\n",
        "At each step of the decision tree learning algorith, it finds the best split. When doint it, we can calculate \"gain\" - the reduction in impurity before and after the split. This gain is quite useful in understanding what are the imporatant features for tree-based models.\n",
        "\n",
        "In Scikit-Learn, tree-based models contain this information in the `feature_importances_` field.\n",
        "\n",
        "For this homework question, we'll find the most important feature:\n",
        "\n",
        "Train the model with these parametes:\n",
        "- `n_estimators=10`,\n",
        "- `max_depth=20`,\n",
        "- `random_state=1`,\n",
        "- `n_jobs=-1` (optional)\n",
        "\n",
        "Get the feature importance information from this model"
      ]
    },
    {
      "cell_type": "code",
      "execution_count": 88,
      "metadata": {
        "id": "UICqST2Qwhbj"
      },
      "outputs": [
        {
          "name": "stdout",
          "output_type": "stream",
          "text": [
            "median_income                 0.363890\n",
            "ocean_proximity=INLAND        0.310901\n",
            "latitude                      0.100636\n",
            "longitude                     0.096873\n",
            "housing_median_age            0.032923\n",
            "population                    0.030010\n",
            "total_rooms                   0.020914\n",
            "total_bedrooms                0.019050\n",
            "households                    0.016888\n",
            "ocean_proximity=NEAR OCEAN    0.004220\n",
            "ocean_proximity=<1H OCEAN     0.003067\n",
            "ocean_proximity=ISLAND        0.000359\n",
            "ocean_proximity=NEAR BAY      0.000270\n",
            "dtype: float64\n"
          ]
        }
      ],
      "source": [
        "#@ TRAINING THE RANDOM FOREST MODEL:\n",
        "rf = RandomForestRegressor(n_estimators=10, max_depth=20, random_state=1, n_jobs=-1)\n",
        "rf.fit(X_train_data, y_train)\n",
        "\n",
        "importances = rf.feature_importances_\n",
        "features = list(dv.get_feature_names_out())\n",
        "\n",
        "forest_importances = pd.Series(importances, index=features)\n",
        "print(forest_importances.sort_values(ascending=False))"
      ]
    },
    {
      "cell_type": "markdown",
      "metadata": {
        "id": "kSCqlx9jye1s"
      },
      "source": [
        "- What's the most important feature?\n",
        "\n",
        "- Answer:"
      ]
    },
    {
      "cell_type": "markdown",
      "metadata": {
        "id": "K5KEdiTMzPaI"
      },
      "source": [
        "**Question 6**\n",
        "\n",
        "Now let's train an XGBoost model! For this question, we'll tune the eta parameter:\n",
        "\n",
        "- Install XGBoost.\n",
        "- Create DMatrix for train and validation\n",
        "- Create a watchlist\n",
        "- Train a model with these parameters for 100 rounds:\n",
        "\n",
        "```\n",
        "xgb_params = {  \n",
        "    'eta': 0.3,  \n",
        "    'max_depth': 6,  \n",
        "    'min_child_weight': 1,  \n",
        "\n",
        "    'objective': 'reg:squarederror',\n",
        "    'nthread': 8,\n",
        "\n",
        "    'seed': 1,\n",
        "    'verbosity': 1,\n",
        "}\n",
        "```\n",
        "\n"
      ]
    },
    {
      "cell_type": "code",
      "execution_count": 89,
      "metadata": {
        "id": "TUP0uoL5yZTc"
      },
      "outputs": [],
      "source": [
        "#@ CREATING THE DMARTIX:\n",
        "features = dv.feature_names_\n",
        "\n",
        "regex = re.compile(r\"<\", re.IGNORECASE)\n",
        "features = [regex.sub(\"_\", col) if any(x in str(col) for x in set(('[', ']', '<'))) else col for col in features]\n",
        "\n",
        "dtrain = xgb.DMatrix(X_train_data, label=y_train, feature_names=features)\n",
        "dval = xgb.DMatrix(X_val_data, label=y_val, feature_names=features)"
      ]
    },
    {
      "cell_type": "code",
      "execution_count": 93,
      "metadata": {
        "id": "lRRzLznP-Z-Q"
      },
      "outputs": [
        {
          "name": "stdout",
          "output_type": "stream",
          "text": [
            "[0]\ttrain-rmse:10.44371\tval-rmse:10.44937\n",
            "[1]\ttrain-rmse:9.40118\tval-rmse:9.40684\n",
            "[2]\ttrain-rmse:8.46290\tval-rmse:8.46830\n",
            "[3]\ttrain-rmse:7.61859\tval-rmse:7.62390\n",
            "[4]\ttrain-rmse:6.85878\tval-rmse:6.86366\n",
            "[5]\ttrain-rmse:6.17511\tval-rmse:6.17976\n",
            "[6]\ttrain-rmse:5.55996\tval-rmse:5.56444\n",
            "[7]\ttrain-rmse:5.00644\tval-rmse:5.01079\n",
            "[8]\ttrain-rmse:4.50846\tval-rmse:4.51263\n",
            "[9]\ttrain-rmse:4.06044\tval-rmse:4.06456\n",
            "[10]\ttrain-rmse:3.65747\tval-rmse:3.66144\n",
            "[11]\ttrain-rmse:3.29493\tval-rmse:3.29852\n",
            "[12]\ttrain-rmse:2.96890\tval-rmse:2.97268\n",
            "[13]\ttrain-rmse:2.67580\tval-rmse:2.67960\n",
            "[14]\ttrain-rmse:2.41209\tval-rmse:2.41607\n",
            "[15]\ttrain-rmse:2.17503\tval-rmse:2.17860\n",
            "[16]\ttrain-rmse:1.96209\tval-rmse:1.96592\n",
            "[17]\ttrain-rmse:1.77071\tval-rmse:1.77456\n",
            "[18]\ttrain-rmse:1.59876\tval-rmse:1.60289\n",
            "[19]\ttrain-rmse:1.44451\tval-rmse:1.44902\n",
            "[20]\ttrain-rmse:1.30614\tval-rmse:1.31096\n",
            "[21]\ttrain-rmse:1.18108\tval-rmse:1.18618\n",
            "[22]\ttrain-rmse:1.06956\tval-rmse:1.07525\n",
            "[23]\ttrain-rmse:0.96911\tval-rmse:0.97509\n",
            "[24]\ttrain-rmse:0.87978\tval-rmse:0.88635\n",
            "[25]\ttrain-rmse:0.79938\tval-rmse:0.80638\n",
            "[26]\ttrain-rmse:0.72821\tval-rmse:0.73578\n",
            "[27]\ttrain-rmse:0.66395\tval-rmse:0.67208\n",
            "[28]\ttrain-rmse:0.60709\tval-rmse:0.61568\n",
            "[29]\ttrain-rmse:0.55685\tval-rmse:0.56641\n",
            "[30]\ttrain-rmse:0.51253\tval-rmse:0.52303\n",
            "[31]\ttrain-rmse:0.47316\tval-rmse:0.48447\n",
            "[32]\ttrain-rmse:0.43782\tval-rmse:0.44991\n",
            "[33]\ttrain-rmse:0.40712\tval-rmse:0.42031\n",
            "[34]\ttrain-rmse:0.38065\tval-rmse:0.39480\n",
            "[35]\ttrain-rmse:0.35720\tval-rmse:0.37261\n",
            "[36]\ttrain-rmse:0.33659\tval-rmse:0.35312\n",
            "[37]\ttrain-rmse:0.31902\tval-rmse:0.33635\n",
            "[38]\ttrain-rmse:0.30371\tval-rmse:0.32222\n",
            "[39]\ttrain-rmse:0.29060\tval-rmse:0.31031\n",
            "[40]\ttrain-rmse:0.27985\tval-rmse:0.30045\n",
            "[41]\ttrain-rmse:0.27021\tval-rmse:0.29199\n",
            "[42]\ttrain-rmse:0.26137\tval-rmse:0.28407\n",
            "[43]\ttrain-rmse:0.25433\tval-rmse:0.27804\n",
            "[44]\ttrain-rmse:0.24856\tval-rmse:0.27300\n",
            "[45]\ttrain-rmse:0.24347\tval-rmse:0.26852\n",
            "[46]\ttrain-rmse:0.23911\tval-rmse:0.26488\n",
            "[47]\ttrain-rmse:0.23511\tval-rmse:0.26142\n",
            "[48]\ttrain-rmse:0.23143\tval-rmse:0.25823\n",
            "[49]\ttrain-rmse:0.22841\tval-rmse:0.25593\n",
            "[50]\ttrain-rmse:0.22580\tval-rmse:0.25398\n",
            "[51]\ttrain-rmse:0.22404\tval-rmse:0.25252\n",
            "[52]\ttrain-rmse:0.22125\tval-rmse:0.25028\n",
            "[53]\ttrain-rmse:0.21948\tval-rmse:0.24879\n",
            "[54]\ttrain-rmse:0.21759\tval-rmse:0.24720\n",
            "[55]\ttrain-rmse:0.21595\tval-rmse:0.24586\n",
            "[56]\ttrain-rmse:0.21416\tval-rmse:0.24513\n",
            "[57]\ttrain-rmse:0.21298\tval-rmse:0.24424\n",
            "[58]\ttrain-rmse:0.21211\tval-rmse:0.24355\n",
            "[59]\ttrain-rmse:0.21075\tval-rmse:0.24284\n",
            "[60]\ttrain-rmse:0.21000\tval-rmse:0.24224\n",
            "[61]\ttrain-rmse:0.20879\tval-rmse:0.24196\n",
            "[62]\ttrain-rmse:0.20778\tval-rmse:0.24126\n",
            "[63]\ttrain-rmse:0.20709\tval-rmse:0.24082\n",
            "[64]\ttrain-rmse:0.20664\tval-rmse:0.24066\n",
            "[65]\ttrain-rmse:0.20538\tval-rmse:0.24053\n",
            "[66]\ttrain-rmse:0.20472\tval-rmse:0.24038\n",
            "[67]\ttrain-rmse:0.20377\tval-rmse:0.23969\n",
            "[68]\ttrain-rmse:0.20325\tval-rmse:0.23943\n",
            "[69]\ttrain-rmse:0.20288\tval-rmse:0.23926\n",
            "[70]\ttrain-rmse:0.20225\tval-rmse:0.23893\n",
            "[71]\ttrain-rmse:0.20135\tval-rmse:0.23836\n",
            "[72]\ttrain-rmse:0.20109\tval-rmse:0.23829\n",
            "[73]\ttrain-rmse:0.20007\tval-rmse:0.23782\n",
            "[74]\ttrain-rmse:0.19952\tval-rmse:0.23765\n",
            "[75]\ttrain-rmse:0.19884\tval-rmse:0.23720\n",
            "[76]\ttrain-rmse:0.19779\tval-rmse:0.23699\n",
            "[77]\ttrain-rmse:0.19691\tval-rmse:0.23674\n",
            "[78]\ttrain-rmse:0.19633\tval-rmse:0.23645\n",
            "[79]\ttrain-rmse:0.19608\tval-rmse:0.23640\n",
            "[80]\ttrain-rmse:0.19554\tval-rmse:0.23622\n",
            "[81]\ttrain-rmse:0.19490\tval-rmse:0.23593\n",
            "[82]\ttrain-rmse:0.19425\tval-rmse:0.23556\n",
            "[83]\ttrain-rmse:0.19345\tval-rmse:0.23532\n",
            "[84]\ttrain-rmse:0.19286\tval-rmse:0.23511\n",
            "[85]\ttrain-rmse:0.19216\tval-rmse:0.23508\n",
            "[86]\ttrain-rmse:0.19147\tval-rmse:0.23488\n",
            "[87]\ttrain-rmse:0.19027\tval-rmse:0.23418\n",
            "[88]\ttrain-rmse:0.18961\tval-rmse:0.23405\n",
            "[89]\ttrain-rmse:0.18931\tval-rmse:0.23398\n",
            "[90]\ttrain-rmse:0.18863\tval-rmse:0.23364\n",
            "[91]\ttrain-rmse:0.18819\tval-rmse:0.23352\n",
            "[92]\ttrain-rmse:0.18777\tval-rmse:0.23339\n",
            "[93]\ttrain-rmse:0.18747\tval-rmse:0.23326\n",
            "[94]\ttrain-rmse:0.18689\tval-rmse:0.23314\n",
            "[95]\ttrain-rmse:0.18633\tval-rmse:0.23297\n",
            "[96]\ttrain-rmse:0.18566\tval-rmse:0.23299\n",
            "[97]\ttrain-rmse:0.18529\tval-rmse:0.23290\n",
            "[98]\ttrain-rmse:0.18480\tval-rmse:0.23275\n",
            "[99]\ttrain-rmse:0.18415\tval-rmse:0.23245\n",
            "[0]\ttrain-rmse:8.12733\tval-rmse:8.13244\n",
            "[1]\ttrain-rmse:5.69586\tval-rmse:5.70069\n",
            "[2]\ttrain-rmse:3.99539\tval-rmse:4.00040\n",
            "[3]\ttrain-rmse:2.80712\tval-rmse:2.81078\n",
            "[4]\ttrain-rmse:1.97834\tval-rmse:1.98174\n",
            "[5]\ttrain-rmse:1.40218\tval-rmse:1.40740\n",
            "[6]\ttrain-rmse:1.00099\tval-rmse:1.00699\n",
            "[7]\ttrain-rmse:0.72751\tval-rmse:0.73438\n",
            "[8]\ttrain-rmse:0.54190\tval-rmse:0.55046\n",
            "[9]\ttrain-rmse:0.42167\tval-rmse:0.43233\n",
            "[10]\ttrain-rmse:0.34481\tval-rmse:0.35782\n",
            "[11]\ttrain-rmse:0.29835\tval-rmse:0.31360\n",
            "[12]\ttrain-rmse:0.27101\tval-rmse:0.28869\n",
            "[13]\ttrain-rmse:0.25275\tval-rmse:0.27343\n",
            "[14]\ttrain-rmse:0.24302\tval-rmse:0.26628\n",
            "[15]\ttrain-rmse:0.23575\tval-rmse:0.26099\n",
            "[16]\ttrain-rmse:0.23035\tval-rmse:0.25701\n",
            "[17]\ttrain-rmse:0.22594\tval-rmse:0.25389\n",
            "[18]\ttrain-rmse:0.22137\tval-rmse:0.24960\n",
            "[19]\ttrain-rmse:0.21743\tval-rmse:0.24699\n",
            "[20]\ttrain-rmse:0.21461\tval-rmse:0.24532\n",
            "[21]\ttrain-rmse:0.21240\tval-rmse:0.24460\n",
            "[22]\ttrain-rmse:0.21152\tval-rmse:0.24413\n",
            "[23]\ttrain-rmse:0.20834\tval-rmse:0.24287\n",
            "[24]\ttrain-rmse:0.20580\tval-rmse:0.24140\n",
            "[25]\ttrain-rmse:0.20356\tval-rmse:0.24033\n",
            "[26]\ttrain-rmse:0.20227\tval-rmse:0.24018\n",
            "[27]\ttrain-rmse:0.19993\tval-rmse:0.23902\n",
            "[28]\ttrain-rmse:0.19717\tval-rmse:0.23718\n",
            "[29]\ttrain-rmse:0.19599\tval-rmse:0.23702\n",
            "[30]\ttrain-rmse:0.19462\tval-rmse:0.23694\n",
            "[31]\ttrain-rmse:0.19317\tval-rmse:0.23708\n",
            "[32]\ttrain-rmse:0.19132\tval-rmse:0.23644\n",
            "[33]\ttrain-rmse:0.18956\tval-rmse:0.23540\n",
            "[34]\ttrain-rmse:0.18731\tval-rmse:0.23544\n",
            "[35]\ttrain-rmse:0.18687\tval-rmse:0.23540\n",
            "[36]\ttrain-rmse:0.18539\tval-rmse:0.23448\n",
            "[37]\ttrain-rmse:0.18399\tval-rmse:0.23400\n",
            "[38]\ttrain-rmse:0.18247\tval-rmse:0.23392\n",
            "[39]\ttrain-rmse:0.18158\tval-rmse:0.23373\n",
            "[40]\ttrain-rmse:0.18073\tval-rmse:0.23358\n",
            "[41]\ttrain-rmse:0.17922\tval-rmse:0.23343\n",
            "[42]\ttrain-rmse:0.17856\tval-rmse:0.23350\n",
            "[43]\ttrain-rmse:0.17774\tval-rmse:0.23348\n",
            "[44]\ttrain-rmse:0.17689\tval-rmse:0.23349\n",
            "[45]\ttrain-rmse:0.17626\tval-rmse:0.23331\n",
            "[46]\ttrain-rmse:0.17561\tval-rmse:0.23278\n",
            "[47]\ttrain-rmse:0.17486\tval-rmse:0.23274\n",
            "[48]\ttrain-rmse:0.17373\tval-rmse:0.23281\n",
            "[49]\ttrain-rmse:0.17250\tval-rmse:0.23285\n",
            "[50]\ttrain-rmse:0.17133\tval-rmse:0.23297\n",
            "[51]\ttrain-rmse:0.16985\tval-rmse:0.23260\n",
            "[52]\ttrain-rmse:0.16813\tval-rmse:0.23221\n",
            "[53]\ttrain-rmse:0.16732\tval-rmse:0.23218\n",
            "[54]\ttrain-rmse:0.16609\tval-rmse:0.23174\n",
            "[55]\ttrain-rmse:0.16535\tval-rmse:0.23169\n",
            "[56]\ttrain-rmse:0.16459\tval-rmse:0.23157\n",
            "[57]\ttrain-rmse:0.16395\tval-rmse:0.23130\n",
            "[58]\ttrain-rmse:0.16274\tval-rmse:0.23158\n",
            "[59]\ttrain-rmse:0.16107\tval-rmse:0.23117\n",
            "[60]\ttrain-rmse:0.16016\tval-rmse:0.23109\n",
            "[61]\ttrain-rmse:0.15957\tval-rmse:0.23112\n",
            "[62]\ttrain-rmse:0.15890\tval-rmse:0.23101\n",
            "[63]\ttrain-rmse:0.15815\tval-rmse:0.23094\n",
            "[64]\ttrain-rmse:0.15705\tval-rmse:0.23059\n",
            "[65]\ttrain-rmse:0.15691\tval-rmse:0.23059\n",
            "[66]\ttrain-rmse:0.15622\tval-rmse:0.23047\n",
            "[67]\ttrain-rmse:0.15543\tval-rmse:0.23041\n",
            "[68]\ttrain-rmse:0.15511\tval-rmse:0.23045\n",
            "[69]\ttrain-rmse:0.15426\tval-rmse:0.23071\n",
            "[70]\ttrain-rmse:0.15374\tval-rmse:0.23070\n",
            "[71]\ttrain-rmse:0.15321\tval-rmse:0.23056\n",
            "[72]\ttrain-rmse:0.15260\tval-rmse:0.23025\n",
            "[73]\ttrain-rmse:0.15203\tval-rmse:0.23021\n",
            "[74]\ttrain-rmse:0.15182\tval-rmse:0.23016\n",
            "[75]\ttrain-rmse:0.15076\tval-rmse:0.22975\n",
            "[76]\ttrain-rmse:0.15020\tval-rmse:0.22957\n",
            "[77]\ttrain-rmse:0.14947\tval-rmse:0.22965\n",
            "[78]\ttrain-rmse:0.14890\tval-rmse:0.22961\n",
            "[79]\ttrain-rmse:0.14813\tval-rmse:0.22957\n",
            "[80]\ttrain-rmse:0.14708\tval-rmse:0.22903\n",
            "[81]\ttrain-rmse:0.14676\tval-rmse:0.22889\n",
            "[82]\ttrain-rmse:0.14653\tval-rmse:0.22892\n",
            "[83]\ttrain-rmse:0.14599\tval-rmse:0.22893\n",
            "[84]\ttrain-rmse:0.14486\tval-rmse:0.22904\n",
            "[85]\ttrain-rmse:0.14429\tval-rmse:0.22911\n",
            "[86]\ttrain-rmse:0.14303\tval-rmse:0.22900\n",
            "[87]\ttrain-rmse:0.14235\tval-rmse:0.22880\n",
            "[88]\ttrain-rmse:0.14186\tval-rmse:0.22900\n",
            "[89]\ttrain-rmse:0.14079\tval-rmse:0.22866\n",
            "[90]\ttrain-rmse:0.14010\tval-rmse:0.22856\n",
            "[91]\ttrain-rmse:0.13963\tval-rmse:0.22834\n",
            "[92]\ttrain-rmse:0.13938\tval-rmse:0.22847\n",
            "[93]\ttrain-rmse:0.13895\tval-rmse:0.22841\n",
            "[94]\ttrain-rmse:0.13816\tval-rmse:0.22822\n",
            "[95]\ttrain-rmse:0.13773\tval-rmse:0.22823\n",
            "[96]\ttrain-rmse:0.13688\tval-rmse:0.22813\n",
            "[97]\ttrain-rmse:0.13642\tval-rmse:0.22812\n",
            "[98]\ttrain-rmse:0.13593\tval-rmse:0.22806\n",
            "[99]\ttrain-rmse:0.13522\tval-rmse:0.22784\n"
          ]
        },
        {
          "data": {
            "text/html": [
              "<div>\n",
              "<style scoped>\n",
              "    .dataframe tbody tr th:only-of-type {\n",
              "        vertical-align: middle;\n",
              "    }\n",
              "\n",
              "    .dataframe tbody tr th {\n",
              "        vertical-align: top;\n",
              "    }\n",
              "\n",
              "    .dataframe thead th {\n",
              "        text-align: right;\n",
              "    }\n",
              "</style>\n",
              "<table border=\"1\" class=\"dataframe\">\n",
              "  <thead>\n",
              "    <tr style=\"text-align: right;\">\n",
              "      <th></th>\n",
              "      <th>et</th>\n",
              "      <th>val_rmse</th>\n",
              "    </tr>\n",
              "  </thead>\n",
              "  <tbody>\n",
              "    <tr>\n",
              "      <th>1</th>\n",
              "      <td>0.3</td>\n",
              "      <td>0.227837</td>\n",
              "    </tr>\n",
              "    <tr>\n",
              "      <th>0</th>\n",
              "      <td>0.1</td>\n",
              "      <td>0.232453</td>\n",
              "    </tr>\n",
              "  </tbody>\n",
              "</table>\n",
              "</div>"
            ],
            "text/plain": [
              "    et  val_rmse\n",
              "1  0.3  0.227837\n",
              "0  0.1  0.232453"
            ]
          },
          "execution_count": 93,
          "metadata": {},
          "output_type": "execute_result"
        }
      ],
      "source": [
        "scores = []\n",
        "watchlist = [(dtrain, 'train'), (dval, 'val')]\n",
        "for et in [0.1, 0.3]:\n",
        "    xgb_params = {\n",
        "        'eta': et, \n",
        "        'max_depth': 6,\n",
        "        'min_child_weight': 1,\n",
        "        \n",
        "        'objective': 'reg:squarederror',\n",
        "        'nthread': 8,\n",
        "        \n",
        "        'seed': 1,\n",
        "        'verbosity': 1,\n",
        "    }\n",
        "    xg = xgb.train(params=xgb_params, dtrain=dtrain, num_boost_round=100, evals=watchlist)\n",
        "    predictions = xg.predict(dval)\n",
        "    rmse = mean_squared_error(y_val, predictions, squared=False)\n",
        "    scores.append((et, rmse))\n",
        "\n",
        "\n",
        "df = pd.DataFrame(data=scores, columns=['et', 'val_rmse'])\n",
        "df.sort_values(by='val_rmse')"
      ]
    },
    {
      "cell_type": "markdown",
      "metadata": {
        "id": "3RmcQ1BQ64X-"
      },
      "source": [
        "- Now, change eta from 0.3 to 0.1"
      ]
    },
    {
      "cell_type": "markdown",
      "metadata": {
        "id": "Yl6Xn6Zb76iH"
      },
      "source": [
        "- Which eta leads to the best RMSE score on the validation dataset?\n",
        "\n",
        "- Answer:"
      ]
    }
  ],
  "metadata": {
    "colab": {
      "provenance": []
    },
    "kernelspec": {
      "display_name": "Python 3.9.13 ('ml-zoomcamp')",
      "language": "python",
      "name": "python3"
    },
    "language_info": {
      "codemirror_mode": {
        "name": "ipython",
        "version": 3
      },
      "file_extension": ".py",
      "mimetype": "text/x-python",
      "name": "python",
      "nbconvert_exporter": "python",
      "pygments_lexer": "ipython3",
      "version": "3.9.13"
    },
    "vscode": {
      "interpreter": {
        "hash": "a9395e7db351cca3fa3077f2ff913893a63a914a1af0645c041b097d1990fde6"
      }
    }
  },
  "nbformat": 4,
  "nbformat_minor": 0
}
